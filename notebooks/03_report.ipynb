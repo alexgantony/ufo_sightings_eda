{
 "cells": [
  {
   "cell_type": "markdown",
   "id": "dd0dda1e",
   "metadata": {},
   "source": [
    "- `notebooks/04_report.ipynb`\n",
    "    \n",
    "    **In:** key figures + `eda_summary.md`\n",
    "    \n",
    "    **Out:** polished narrative (for PDF/GitHub)"
   ]
  }
 ],
 "metadata": {
  "language_info": {
   "name": "python"
  }
 },
 "nbformat": 4,
 "nbformat_minor": 5
}
