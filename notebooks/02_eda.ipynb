{
 "cells": [
  {
   "cell_type": "markdown",
   "id": "c094151d",
   "metadata": {},
   "source": [
    "- `notebooks/03_eda.ipynb`\n",
    "    \n",
    "    **In:** `data/processed/ufo_enriched.parquet`\n",
    "    \n",
    "    **Out:** figures in `images/figures/`, `reports/eda_summary.md`"
   ]
  }
 ],
 "metadata": {
  "language_info": {
   "name": "python"
  }
 },
 "nbformat": 4,
 "nbformat_minor": 5
}
