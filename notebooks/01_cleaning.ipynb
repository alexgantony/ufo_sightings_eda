{
 "cells": [
  {
   "cell_type": "markdown",
   "id": "94055122",
   "metadata": {},
   "source": [
    "# Introduction & Objectives"
   ]
  },
  {
   "cell_type": "markdown",
   "id": "ae8b195b",
   "metadata": {},
   "source": [
    "# Setup & Data Loading"
   ]
  },
  {
   "cell_type": "code",
   "execution_count": 1,
   "id": "c4bdfe6b",
   "metadata": {},
   "outputs": [
    {
     "name": "stdout",
     "output_type": "stream",
     "text": [
      "Working dir: d:\\Projects\\ufo_sightings_eda\n"
     ]
    }
   ],
   "source": [
    "import os\n",
    "os.chdir(\"..\")\n",
    "print(\"Working dir:\", os.getcwd())"
   ]
  },
  {
   "cell_type": "code",
   "execution_count": 2,
   "id": "724db0c3",
   "metadata": {},
   "outputs": [],
   "source": [
    "import numpy as np\n",
    "import pandas as pd\n",
    "import matplotlib.pyplot as plt\n",
    "import seaborn as sns"
   ]
  },
  {
   "cell_type": "code",
   "execution_count": 3,
   "id": "d9faa66f",
   "metadata": {},
   "outputs": [
    {
     "name": "stderr",
     "output_type": "stream",
     "text": [
      "C:\\Users\\alexi\\AppData\\Local\\Temp\\ipykernel_22088\\2557818409.py:1: DtypeWarning: Columns (5,9) have mixed types. Specify dtype option on import or set low_memory=False.\n",
      "  ufo_df = pd.read_csv(\"data/raw/ufo_sightings_scrubbed.csv\", parse_dates=[\"datetime\"])\n"
     ]
    }
   ],
   "source": [
    "ufo_df = pd.read_csv(\"data/raw/ufo_sightings_scrubbed.csv\", parse_dates=[\"datetime\"])"
   ]
  },
  {
   "cell_type": "markdown",
   "id": "54a23f12",
   "metadata": {},
   "source": [
    "### 1 Initial Inspection (rows, columns, dtypes)"
   ]
  },
  {
   "cell_type": "code",
   "execution_count": 4,
   "id": "d2f16283",
   "metadata": {},
   "outputs": [
    {
     "data": {
      "text/plain": [
       "Index(['datetime', 'city', 'state', 'country', 'shape', 'duration (seconds)',\n",
       "       'duration (hours/min)', 'comments', 'date posted', 'latitude',\n",
       "       'longitude '],\n",
       "      dtype='object')"
      ]
     },
     "execution_count": 4,
     "metadata": {},
     "output_type": "execute_result"
    }
   ],
   "source": [
    "ufo_df.columns"
   ]
  },
  {
   "cell_type": "code",
   "execution_count": 5,
   "id": "22a178d6",
   "metadata": {},
   "outputs": [],
   "source": [
    "# removing unwanted spaces in column names\n",
    "ufo_df.columns = ufo_df.columns.str.strip()"
   ]
  },
  {
   "cell_type": "code",
   "execution_count": 6,
   "id": "e4ecd5f7",
   "metadata": {},
   "outputs": [
    {
     "data": {
      "text/plain": [
       "(80332, 11)"
      ]
     },
     "execution_count": 6,
     "metadata": {},
     "output_type": "execute_result"
    }
   ],
   "source": [
    "ufo_df.shape"
   ]
  },
  {
   "cell_type": "code",
   "execution_count": 7,
   "id": "0f2947cb",
   "metadata": {},
   "outputs": [
    {
     "data": {
      "text/plain": [
       "np.int64(0)"
      ]
     },
     "execution_count": 7,
     "metadata": {},
     "output_type": "execute_result"
    }
   ],
   "source": [
    "# Checking for duplicates\n",
    "ufo_df.duplicated().sum()"
   ]
  },
  {
   "cell_type": "markdown",
   "id": "209345d7",
   "metadata": {},
   "source": [
    "### Sanity Check - datetime"
   ]
  },
  {
   "cell_type": "code",
   "execution_count": 8,
   "id": "b46f1ccc",
   "metadata": {},
   "outputs": [
    {
     "data": {
      "text/plain": [
       "count                            80332\n",
       "mean     2004-05-17 04:07:35.261166336\n",
       "min                1906-11-11 00:00:00\n",
       "25%                2001-08-02 21:45:00\n",
       "50%                2006-11-22 04:05:00\n",
       "75%                2011-06-21 00:30:00\n",
       "max                2014-05-08 18:45:00\n",
       "Name: datetime, dtype: object"
      ]
     },
     "execution_count": 8,
     "metadata": {},
     "output_type": "execute_result"
    }
   ],
   "source": [
    "ufo_df[\"datetime\"].describe()"
   ]
  },
  {
   "cell_type": "markdown",
   "id": "2355880e",
   "metadata": {},
   "source": [
    "### Sanity Check - city"
   ]
  },
  {
   "cell_type": "code",
   "execution_count": 9,
   "id": "0afa8e88",
   "metadata": {},
   "outputs": [],
   "source": [
    "city = ufo_df[\"city\"]"
   ]
  },
  {
   "cell_type": "code",
   "execution_count": 10,
   "id": "eebfd298",
   "metadata": {},
   "outputs": [
    {
     "data": {
      "text/plain": [
       "19900"
      ]
     },
     "execution_count": 10,
     "metadata": {},
     "output_type": "execute_result"
    }
   ],
   "source": [
    "city.nunique()"
   ]
  },
  {
   "cell_type": "code",
   "execution_count": 11,
   "id": "5d9980cd",
   "metadata": {},
   "outputs": [
    {
     "data": {
      "text/plain": [
       "city\n",
       "seattle                     525\n",
       "phoenix                     454\n",
       "portland                    374\n",
       "las vegas                   368\n",
       "los angeles                 353\n",
       "                           ... \n",
       "timonium                      1\n",
       "shicksinny                    1\n",
       "history channel/illinois      1\n",
       "rocky boy                     1\n",
       "troy (east of)                1\n",
       "Name: count, Length: 19900, dtype: int64"
      ]
     },
     "execution_count": 11,
     "metadata": {},
     "output_type": "execute_result"
    }
   ],
   "source": [
    "city.value_counts(dropna=False)"
   ]
  },
  {
   "cell_type": "markdown",
   "id": "39ac4c98",
   "metadata": {},
   "source": [
    "### Handling missing values"
   ]
  },
  {
   "cell_type": "code",
   "execution_count": 12,
   "id": "c13f90fc",
   "metadata": {},
   "outputs": [],
   "source": [
    "# Total number of NaN values\n",
    "nan_col_count = dict(ufo_df.isna().sum())"
   ]
  },
  {
   "cell_type": "code",
   "execution_count": 13,
   "id": "85dd8a38",
   "metadata": {},
   "outputs": [],
   "source": [
    "total_rows = ufo_df.shape[0]"
   ]
  },
  {
   "cell_type": "code",
   "execution_count": 14,
   "id": "cd007c8a",
   "metadata": {},
   "outputs": [
    {
     "name": "stdout",
     "output_type": "stream",
     "text": [
      "% of NaN in datetime: 0.0%; row counts: 0\n",
      "% of NaN in city: 0.0%; row counts: 0\n",
      "% of NaN in state: 7.22%; row counts: 5797\n",
      "% of NaN in country: 12.04%; row counts: 9670\n",
      "% of NaN in shape: 2.41%; row counts: 1932\n",
      "% of NaN in duration (seconds): 0.0%; row counts: 0\n",
      "% of NaN in duration (hours/min): 0.0%; row counts: 0\n",
      "% of NaN in comments: 0.02%; row counts: 15\n",
      "% of NaN in date posted: 0.0%; row counts: 0\n",
      "% of NaN in latitude: 0.0%; row counts: 0\n",
      "% of NaN in longitude: 0.0%; row counts: 0\n"
     ]
    }
   ],
   "source": [
    "# missing values in percentage\n",
    "for k, v in nan_col_count.items():\n",
    "    print(f\"% of NaN in {k}: {round((v / total_rows) * 100, 2)}%; row counts: {v}\")"
   ]
  },
  {
   "cell_type": "markdown",
   "id": "7df929f6",
   "metadata": {},
   "source": [
    "### Handling missing values\n",
    "\n",
    "Found 4 columns with NaN values. They're state, country, shape, comments\n",
    "- **Column:** *comments*\n",
    "\n",
    "    - No of empty rows: 15 (0.02% of total rows)\n",
    "    - Replaced NaN with \"No comment\"\n",
    "\n",
    "- **Column:** *shape*\n",
    "\n",
    "    - No of empty rows: 1932 (2.41% of total rows)\n",
    "    - Replaced NaN with \"unknown\". this will maintain the consistency with the existing \"unknown\" category.\n",
    "\n",
    "- **Column:** *state*\n",
    "\n",
    "    - No of empty rows: 5797 (7.22% of total rows)\n",
    "    - Replaced NaN with \"No comment\"\n",
    "\n",
    "- **Column:** *country*\n",
    "\n",
    "    - No of empty rows: 9670 (12.04% of total rows)\n",
    "    - Replaced NaN with \"No comment\""
   ]
  },
  {
   "cell_type": "code",
   "execution_count": 15,
   "id": "5d6bcf28",
   "metadata": {},
   "outputs": [
    {
     "name": "stdout",
     "output_type": "stream",
     "text": [
      "15\n"
     ]
    }
   ],
   "source": [
    "# comment column\n",
    "print(ufo_df[\"comments\"].isna().sum())\n",
    "ufo_df[\"comments\"] = ufo_df[\"comments\"].fillna(\"No comment\")"
   ]
  },
  {
   "cell_type": "code",
   "execution_count": 16,
   "id": "5bd8fcf2",
   "metadata": {},
   "outputs": [
    {
     "name": "stdout",
     "output_type": "stream",
     "text": [
      "0\n"
     ]
    }
   ],
   "source": [
    "print(ufo_df[\"comments\"].isna().sum())"
   ]
  },
  {
   "cell_type": "code",
   "execution_count": 17,
   "id": "877d038b",
   "metadata": {},
   "outputs": [
    {
     "data": {
      "text/plain": [
       "29"
      ]
     },
     "execution_count": 17,
     "metadata": {},
     "output_type": "execute_result"
    }
   ],
   "source": [
    "#shape column\n",
    "ufo_df[\"shape\"].nunique()"
   ]
  },
  {
   "cell_type": "code",
   "execution_count": 18,
   "id": "17098bc5",
   "metadata": {},
   "outputs": [
    {
     "data": {
      "text/plain": [
       "array(['cylinder', 'light', 'circle', 'sphere', 'disk', 'fireball',\n",
       "       'unknown', 'oval', 'other', 'cigar', 'rectangle', 'chevron',\n",
       "       'triangle', 'formation', nan, 'delta', 'changing', 'egg',\n",
       "       'diamond', 'flash', 'teardrop', 'cone', 'cross', 'pyramid',\n",
       "       'round', 'crescent', 'flare', 'hexagon', 'dome', 'changed'],\n",
       "      dtype=object)"
      ]
     },
     "execution_count": 18,
     "metadata": {},
     "output_type": "execute_result"
    }
   ],
   "source": [
    "ufo_df[\"shape\"].unique()"
   ]
  },
  {
   "cell_type": "code",
   "execution_count": 19,
   "id": "f65ab9c5",
   "metadata": {},
   "outputs": [
    {
     "data": {
      "text/plain": [
       "shape\n",
       "light        16565\n",
       "triangle      7865\n",
       "circle        7608\n",
       "fireball      6208\n",
       "other         5649\n",
       "unknown       5584\n",
       "sphere        5387\n",
       "disk          5213\n",
       "oval          3733\n",
       "formation     2457\n",
       "cigar         2057\n",
       "changing      1962\n",
       "NaN           1932\n",
       "flash         1328\n",
       "rectangle     1297\n",
       "cylinder      1283\n",
       "diamond       1178\n",
       "chevron        952\n",
       "egg            759\n",
       "teardrop       750\n",
       "cone           316\n",
       "cross          233\n",
       "delta            7\n",
       "round            2\n",
       "crescent         2\n",
       "pyramid          1\n",
       "flare            1\n",
       "hexagon          1\n",
       "dome             1\n",
       "changed          1\n",
       "Name: count, dtype: int64"
      ]
     },
     "execution_count": 19,
     "metadata": {},
     "output_type": "execute_result"
    }
   ],
   "source": [
    "ufo_df[\"shape\"].value_counts(dropna=False)"
   ]
  },
  {
   "cell_type": "code",
   "execution_count": 20,
   "id": "97a94ef4",
   "metadata": {},
   "outputs": [],
   "source": [
    "ufo_df[\"shape\"] = ufo_df[\"shape\"].fillna(\"unknown\")"
   ]
  },
  {
   "cell_type": "code",
   "execution_count": 21,
   "id": "4f28ca9f",
   "metadata": {},
   "outputs": [
    {
     "data": {
      "text/plain": [
       "np.int64(0)"
      ]
     },
     "execution_count": 21,
     "metadata": {},
     "output_type": "execute_result"
    }
   ],
   "source": [
    "ufo_df[\"shape\"].isna().sum()"
   ]
  },
  {
   "cell_type": "markdown",
   "id": "06c781fa",
   "metadata": {},
   "source": [
    "state & country column diagnosis"
   ]
  },
  {
   "cell_type": "code",
   "execution_count": 22,
   "id": "fcdc63ba",
   "metadata": {},
   "outputs": [
    {
     "data": {
      "text/plain": [
       "67"
      ]
     },
     "execution_count": 22,
     "metadata": {},
     "output_type": "execute_result"
    }
   ],
   "source": [
    "# state column\n",
    "state = ufo_df[\"state\"]\n",
    "state.nunique()"
   ]
  },
  {
   "cell_type": "code",
   "execution_count": 23,
   "id": "85519435",
   "metadata": {},
   "outputs": [
    {
     "data": {
      "text/plain": [
       "array(['tx', nan, 'hi', 'tn', 'ct', 'al', 'fl', 'ca', 'nc', 'ny', 'ky',\n",
       "       'mi', 'ma', 'ks', 'sc', 'wa', 'ab', 'co', 'nh', 'wi', 'me', 'ga',\n",
       "       'pa', 'il', 'ar', 'on', 'mo', 'oh', 'in', 'az', 'mn', 'nv', 'nf',\n",
       "       'ne', 'or', 'bc', 'ia', 'va', 'id', 'nm', 'nj', 'mb', 'wv', 'ok',\n",
       "       'ri', 'nb', 'vt', 'la', 'pr', 'ak', 'ms', 'ut', 'md', 'mt', 'sk',\n",
       "       'wy', 'sd', 'pq', 'ns', 'qc', 'de', 'nd', 'dc', 'nt', 'sa', 'yt',\n",
       "       'yk', 'pe'], dtype=object)"
      ]
     },
     "execution_count": 23,
     "metadata": {},
     "output_type": "execute_result"
    }
   ],
   "source": [
    "state.unique()"
   ]
  },
  {
   "cell_type": "code",
   "execution_count": 24,
   "metadata": {},
   "outputs": [
    {
     "data": {
      "text/plain": [
       "<Axes: xlabel='state'>"
      ]
     },
     "execution_count": 24,
     "metadata": {},
     "output_type": "execute_result"
    },
    {
     "data": {
      "image/png": "[encoded data removed]",
      "text/plain": [
       "<Figure size 1000x800 with 1 Axes>"
      ]
     },
     "metadata": {},
     "output_type": "display_data"
    }
   ],
   "source": [
    "state.value_counts(dropna=False).plot(kind=\"bar\", figsize=(10, 8))"
   ]
  },
  {
   "cell_type": "code",
   "execution_count": 25,
   "id": "e102c85f",
   "metadata": {},
   "outputs": [
    {
     "data": {
      "text/plain": [
       "5"
      ]
     },
     "execution_count": 25,
     "metadata": {},
     "output_type": "execute_result"
    }
   ],
   "source": [
    "# country column\n",
    "country = ufo_df[\"country\"]\n",
    "country.nunique()"
   ]
  },
  {
   "cell_type": "markdown",
   "id": "f22499b2",
   "metadata": {},
   "source": [
    "- **Germany:** The dataset does not provide any state level information. \n",
    "\n",
    "- **Great Britain:** \n",
    "    - There are total of 1905 rows, out of that 1893 already had missing state values. The 12 remaining rows contained non-Great Britain state codes ('wv', 'la', 'bc', 'tn', 'nc', 'ms', 'sk', 'yt', 'nt', 'ri','ns'). \n",
    "    - The codes were further investigated using city + lat/long and found out that all 12 rows is located within Great Britain but only the states codes are invalid. \n",
    "    - The invalid rows state codes were repalced with \"NaN. As a result, all Great Britain rows have state = NaN.\n",
    "\n",
    "- **Australia:**\n",
    "    - There are total of 537 rows, out of that 531 already had missing state values. The 6 remaining rows contained non-Australian state codes (wa (2), sa (2), dc (1), al (1), oh (1)). \n",
    "    - The codes were further investigated using city + lat/long and found out that all 6 rows is located within Australian continent but only the states codes are invalid. \n",
    "    - The invalid rows state codes were repalced with \"NaN. As a result, all Australian rows have state = NaN."
   ]
  },
  {
   "cell_type": "code",
   "execution_count": 26,
   "id": "f9803e06",
   "metadata": {},
   "outputs": [
    {
     "data": {
      "text/plain": [
       "np.int64(1905)"
      ]
     },
     "execution_count": 26,
     "metadata": {},
     "output_type": "execute_result"
    }
   ],
   "source": [
    "ufo_df.loc[ufo_df[\"country\"] == \"gb\", \"country\"].count()"
   ]
  },
  {
   "cell_type": "code",
   "execution_count": 27,
   "id": "6f954343",
   "metadata": {},
   "outputs": [
    {
     "data": {
      "text/plain": [
       "array([nan], dtype=object)"
      ]
     },
     "execution_count": 27,
     "metadata": {},
     "output_type": "execute_result"
    }
   ],
   "source": [
    "ufo_df[country.isin([\"de\"])][\"state\"].unique()"
   ]
  },
  {
   "cell_type": "code",
   "execution_count": 28,
   "id": "ce96aa9d",
   "metadata": {},
   "outputs": [
    {
     "data": {
      "text/plain": [
       "array([nan, 'wv', 'la', 'bc', 'tn', 'nc', 'ms', 'sk', 'yt', 'nt', 'ri',\n",
       "       'ns'], dtype=object)"
      ]
     },
     "execution_count": 28,
     "metadata": {},
     "output_type": "execute_result"
    }
   ],
   "source": [
    "ufo_df[country.isin([\"gb\"])][\"state\"].unique()"
   ]
  },
  {
   "cell_type": "code",
   "execution_count": 29,
   "id": "eb4bc41b",
   "metadata": {},
   "outputs": [
    {
     "data": {
      "text/plain": [
       "state\n",
       "NaN    1893\n",
       "ns        2\n",
       "la        1\n",
       "wv        1\n",
       "bc        1\n",
       "tn        1\n",
       "ms        1\n",
       "nc        1\n",
       "sk        1\n",
       "yt        1\n",
       "nt        1\n",
       "ri        1\n",
       "Name: count, dtype: int64"
      ]
     },
     "execution_count": 29,
     "metadata": {},
     "output_type": "execute_result"
    }
   ],
   "source": [
    "ufo_df[country.isin([\"gb\"])][\"state\"].value_counts(dropna=False)"
   ]
  },
  {
   "cell_type": "code",
   "execution_count": 30,
   "id": "551977ea",
   "metadata": {},
   "outputs": [
    {
     "data": {
      "text/html": [
       "<div>\n",
       "<style scoped>\n",
       "    .dataframe tbody tr th:only-of-type {\n",
       "        vertical-align: middle;\n",
       "    }\n",
       "\n",
       "    .dataframe tbody tr th {\n",
       "        vertical-align: top;\n",
       "    }\n",
       "\n",
       "    .dataframe thead th {\n",
       "        text-align: right;\n",
       "    }\n",
       "</style>\n",
       "<table border=\"1\" class=\"dataframe\">\n",
       "  <thead>\n",
       "    <tr style=\"text-align: right;\">\n",
       "      <th></th>\n",
       "      <th>datetime</th>\n",
       "      <th>city</th>\n",
       "      <th>state</th>\n",
       "      <th>country</th>\n",
       "      <th>shape</th>\n",
       "      <th>duration (seconds)</th>\n",
       "      <th>duration (hours/min)</th>\n",
       "      <th>comments</th>\n",
       "      <th>date posted</th>\n",
       "      <th>latitude</th>\n",
       "      <th>longitude</th>\n",
       "    </tr>\n",
       "  </thead>\n",
       "  <tbody>\n",
       "    <tr>\n",
       "      <th>10194</th>\n",
       "      <td>2006-11-17 18:25:00</td>\n",
       "      <td>trowbridge (uk/england)</td>\n",
       "      <td>wv</td>\n",
       "      <td>gb</td>\n",
       "      <td>circle</td>\n",
       "      <td>600</td>\n",
       "      <td>10minutes</td>\n",
       "      <td>U.F.O.sighting in Wiltshire</td>\n",
       "      <td>2006-12-07</td>\n",
       "      <td>51.318889</td>\n",
       "      <td>-2.208611</td>\n",
       "    </tr>\n",
       "    <tr>\n",
       "      <th>12311</th>\n",
       "      <td>2003-11-22 20:50:00</td>\n",
       "      <td>fleetwood (lancashire) (uk/england)</td>\n",
       "      <td>la</td>\n",
       "      <td>gb</td>\n",
       "      <td>circle</td>\n",
       "      <td>600</td>\n",
       "      <td>10 minutes</td>\n",
       "      <td>My friends daughter phoned her father to say t...</td>\n",
       "      <td>2003-11-26</td>\n",
       "      <td>53.916667</td>\n",
       "      <td>-3.000000</td>\n",
       "    </tr>\n",
       "    <tr>\n",
       "      <th>14588</th>\n",
       "      <td>2013-01-14 02:15:00</td>\n",
       "      <td>bradford (uk/england)</td>\n",
       "      <td>bc</td>\n",
       "      <td>gb</td>\n",
       "      <td>circle</td>\n",
       "      <td>86400</td>\n",
       "      <td>week day</td>\n",
       "      <td>((HOAX)) Circle and big.</td>\n",
       "      <td>2013-02-04</td>\n",
       "      <td>51</td>\n",
       "      <td>-3.183333</td>\n",
       "    </tr>\n",
       "    <tr>\n",
       "      <th>25070</th>\n",
       "      <td>2006-01-07 06:40:00</td>\n",
       "      <td>lyme regis (uk/england)</td>\n",
       "      <td>tn</td>\n",
       "      <td>gb</td>\n",
       "      <td>triangle</td>\n",
       "      <td>600</td>\n",
       "      <td>20-30</td>\n",
       "      <td>an amazing crafts with very bright lights and ...</td>\n",
       "      <td>2006-02-14</td>\n",
       "      <td>50.733333</td>\n",
       "      <td>-2.933333</td>\n",
       "    </tr>\n",
       "    <tr>\n",
       "      <th>29791</th>\n",
       "      <td>2009-02-07 19:30:00</td>\n",
       "      <td>morton (near norwich) (uk/england)</td>\n",
       "      <td>nc</td>\n",
       "      <td>gb</td>\n",
       "      <td>light</td>\n",
       "      <td>600</td>\n",
       "      <td>10 minutes</td>\n",
       "      <td>Succession of 10-12 silent&amp;#44 glowing orange ...</td>\n",
       "      <td>2009-03-19</td>\n",
       "      <td>51.611667</td>\n",
       "      <td>-2.512500</td>\n",
       "    </tr>\n",
       "    <tr>\n",
       "      <th>39729</th>\n",
       "      <td>2007-04-29 22:00:00</td>\n",
       "      <td>lancaster (uk/england).</td>\n",
       "      <td>ms</td>\n",
       "      <td>gb</td>\n",
       "      <td>light</td>\n",
       "      <td>180</td>\n",
       "      <td>3 minutes</td>\n",
       "      <td>ORANGE LIGHT OVER IRISH SEA IN UK. SEEN TO ACC...</td>\n",
       "      <td>2007-06-12</td>\n",
       "      <td>54.066667</td>\n",
       "      <td>-2.833333</td>\n",
       "    </tr>\n",
       "    <tr>\n",
       "      <th>42659</th>\n",
       "      <td>2010-05-15 22:30:00</td>\n",
       "      <td>preston (uk/england)</td>\n",
       "      <td>sk</td>\n",
       "      <td>gb</td>\n",
       "      <td>fireball</td>\n",
       "      <td>60</td>\n",
       "      <td>1 minute</td>\n",
       "      <td>looked like a plane but was lit up red and the...</td>\n",
       "      <td>2010-06-03</td>\n",
       "      <td>50.783333</td>\n",
       "      <td>-0.466667</td>\n",
       "    </tr>\n",
       "    <tr>\n",
       "      <th>46146</th>\n",
       "      <td>2014-05-07 11:56:00</td>\n",
       "      <td>heswall (uk/england)</td>\n",
       "      <td>yt</td>\n",
       "      <td>gb</td>\n",
       "      <td>triangle</td>\n",
       "      <td>40</td>\n",
       "      <td>40 seconds</td>\n",
       "      <td>((HOAX??))  Long triangle object moves with sp...</td>\n",
       "      <td>2014-05-08</td>\n",
       "      <td>53.316667</td>\n",
       "      <td>-3.100000</td>\n",
       "    </tr>\n",
       "    <tr>\n",
       "      <th>47225</th>\n",
       "      <td>1978-06-01 06:30:00</td>\n",
       "      <td>felixstowe (uk/england)</td>\n",
       "      <td>nt</td>\n",
       "      <td>gb</td>\n",
       "      <td>sphere</td>\n",
       "      <td>900</td>\n",
       "      <td>15 min</td>\n",
       "      <td>jUST TO MAKE SURE  PLEASE DO NOT INCLUDE MY NA...</td>\n",
       "      <td>2008-06-12</td>\n",
       "      <td>51.966667</td>\n",
       "      <td>1.350000</td>\n",
       "    </tr>\n",
       "    <tr>\n",
       "      <th>67792</th>\n",
       "      <td>2009-08-19 22:00:00</td>\n",
       "      <td>leeds (uk/england)</td>\n",
       "      <td>ri</td>\n",
       "      <td>gb</td>\n",
       "      <td>unknown</td>\n",
       "      <td>120.0</td>\n",
       "      <td>2 minutes</td>\n",
       "      <td>controlled and deliberate manouvers</td>\n",
       "      <td>2009-08-27</td>\n",
       "      <td>53.8</td>\n",
       "      <td>-1.583333</td>\n",
       "    </tr>\n",
       "    <tr>\n",
       "      <th>68004</th>\n",
       "      <td>2001-08-21 00:00:00</td>\n",
       "      <td>dundee (tayside; alba) (uk/scotland)</td>\n",
       "      <td>ns</td>\n",
       "      <td>gb</td>\n",
       "      <td>light</td>\n",
       "      <td>900.0</td>\n",
       "      <td>10-15 min.</td>\n",
       "      <td>THE TIME JIST AFORE DAWN I WENT TO THE WINDOW ...</td>\n",
       "      <td>2006-10-30</td>\n",
       "      <td>56.5</td>\n",
       "      <td>-2.966667</td>\n",
       "    </tr>\n",
       "    <tr>\n",
       "      <th>70555</th>\n",
       "      <td>1980-08-30 20:00:00</td>\n",
       "      <td>llandudno (uk/wales)</td>\n",
       "      <td>ns</td>\n",
       "      <td>gb</td>\n",
       "      <td>circle</td>\n",
       "      <td>900.0</td>\n",
       "      <td>15 minutes</td>\n",
       "      <td>there were lights on the object</td>\n",
       "      <td>2000-07-11</td>\n",
       "      <td>53.333333</td>\n",
       "      <td>-3.833333</td>\n",
       "    </tr>\n",
       "  </tbody>\n",
       "</table>\n",
       "</div>"
      ],
      "text/plain": [
       "                 datetime                                  city state country  \\\n",
       "10194 2006-11-17 18:25:00               trowbridge (uk/england)    wv      gb   \n",
       "12311 2003-11-22 20:50:00   fleetwood (lancashire) (uk/england)    la      gb   \n",
       "14588 2013-01-14 02:15:00                 bradford (uk/england)    bc      gb   \n",
       "25070 2006-01-07 06:40:00               lyme regis (uk/england)    tn      gb   \n",
       "29791 2009-02-07 19:30:00    morton (near norwich) (uk/england)    nc      gb   \n",
       "39729 2007-04-29 22:00:00               lancaster (uk/england).    ms      gb   \n",
       "42659 2010-05-15 22:30:00                  preston (uk/england)    sk      gb   \n",
       "46146 2014-05-07 11:56:00                  heswall (uk/england)    yt      gb   \n",
       "47225 1978-06-01 06:30:00               felixstowe (uk/england)    nt      gb   \n",
       "67792 2009-08-19 22:00:00                    leeds (uk/england)    ri      gb   \n",
       "68004 2001-08-21 00:00:00  dundee (tayside; alba) (uk/scotland)    ns      gb   \n",
       "70555 1980-08-30 20:00:00                  llandudno (uk/wales)    ns      gb   \n",
       "\n",
       "          shape duration (seconds) duration (hours/min)  \\\n",
       "10194    circle                600            10minutes   \n",
       "12311    circle                600           10 minutes   \n",
       "14588    circle              86400             week day   \n",
       "25070  triangle                600                20-30   \n",
       "29791     light                600           10 minutes   \n",
       "39729     light                180            3 minutes   \n",
       "42659  fireball                 60             1 minute   \n",
       "46146  triangle                 40           40 seconds   \n",
       "47225    sphere                900               15 min   \n",
       "67792   unknown              120.0            2 minutes   \n",
       "68004     light              900.0           10-15 min.   \n",
       "70555    circle              900.0           15 minutes   \n",
       "\n",
       "                                                comments date posted  \\\n",
       "10194                        U.F.O.sighting in Wiltshire  2006-12-07   \n",
       "12311  My friends daughter phoned her father to say t...  2003-11-26   \n",
       "14588                           ((HOAX)) Circle and big.  2013-02-04   \n",
       "25070  an amazing crafts with very bright lights and ...  2006-02-14   \n",
       "29791  Succession of 10-12 silent&#44 glowing orange ...  2009-03-19   \n",
       "39729  ORANGE LIGHT OVER IRISH SEA IN UK. SEEN TO ACC...  2007-06-12   \n",
       "42659  looked like a plane but was lit up red and the...  2010-06-03   \n",
       "46146  ((HOAX??))  Long triangle object moves with sp...  2014-05-08   \n",
       "47225  jUST TO MAKE SURE  PLEASE DO NOT INCLUDE MY NA...  2008-06-12   \n",
       "67792                controlled and deliberate manouvers  2009-08-27   \n",
       "68004  THE TIME JIST AFORE DAWN I WENT TO THE WINDOW ...  2006-10-30   \n",
       "70555                    there were lights on the object  2000-07-11   \n",
       "\n",
       "        latitude  longitude  \n",
       "10194  51.318889  -2.208611  \n",
       "12311  53.916667  -3.000000  \n",
       "14588         51  -3.183333  \n",
       "25070  50.733333  -2.933333  \n",
       "29791  51.611667  -2.512500  \n",
       "39729  54.066667  -2.833333  \n",
       "42659  50.783333  -0.466667  \n",
       "46146  53.316667  -3.100000  \n",
       "47225  51.966667   1.350000  \n",
       "67792       53.8  -1.583333  \n",
       "68004       56.5  -2.966667  \n",
       "70555  53.333333  -3.833333  "
      ]
     },
     "execution_count": 30,
     "metadata": {},
     "output_type": "execute_result"
    }
   ],
   "source": [
    "gb_state = ['wv', 'la', 'bc', 'tn', 'nc', 'ms', 'sk', 'yt', 'nt', 'ri','ns']\n",
    "\n",
    "ufo_df[(country == \"gb\") & (state.isin(gb_state))]"
   ]
  },
  {
   "cell_type": "code",
   "execution_count": 31,
   "id": "3d399c08",
   "metadata": {},
   "outputs": [],
   "source": [
    "ufo_df.loc[state.isin(gb_state), \"state\"] = np.nan"
   ]
  },
  {
   "cell_type": "code",
   "execution_count": 32,
   "metadata": {},
   "outputs": [
    {
     "data": {
      "text/plain": [
       "country\n",
       "us     65114\n",
       "NaN     9670\n",
       "ca      3000\n",
       "gb      1905\n",
       "au       538\n",
       "de       105\n",
       "Name: count, dtype: int64"
      ]
     },
     "execution_count": 32,
     "metadata": {},
     "output_type": "execute_result"
    }
   ],
   "source": [
    "country.value_counts(dropna=False)"
   ]
  },
  {
   "cell_type": "markdown",
   "id": "38014981",
   "metadata": {},
   "source": [
    "There are five countries in this dataset\n",
    "- USA (us)\n",
    "- Canada (ca)\n",
    "- Great Britain (gb)\n",
    "- Australia (au)\n",
    "- Germany (de)\n",
    "\n",
    "Majoritry is from US and second majority is NaN. "
   ]
  },
  {
   "cell_type": "code",
   "execution_count": 33,
   "id": "bdc29159",
   "metadata": {},
   "outputs": [
    {
     "data": {
      "text/plain": [
       "state\n",
       "NaN    531\n",
       "wa       2\n",
       "sa       2\n",
       "dc       1\n",
       "al       1\n",
       "oh       1\n",
       "Name: count, dtype: int64"
      ]
     },
     "execution_count": 33,
     "metadata": {},
     "output_type": "execute_result"
    }
   ],
   "source": [
    "# Working on country = \"au\"\n",
    "ufo_df[ufo_df[\"country\"] == \"au\"][\"state\"].value_counts(dropna=False)"
   ]
  },
  {
   "cell_type": "code",
   "execution_count": 34,
   "id": "a1fc993b",
   "metadata": {},
   "outputs": [],
   "source": [
    "# Replaced all state values with NaN for country = au\n",
    "ufo_df.loc[(country == \"au\") & (state.isin([\"wa\",  \"sa\", \"dc\", \"al\", \"oh\"])), \"state\"] = np.nan"
   ]
  },
  {
   "cell_type": "code",
   "execution_count": 35,
   "id": "21bb11ea",
   "metadata": {},
   "outputs": [],
   "source": [
    "us_ca_codes = {\n",
    "  \"us\": { \"al\", \"ak\", \"az\", \"ar\", \"ca\", \"co\", \"ct\", \"dc\", \"de\", \"fl\",\n",
    "          \"ga\", \"hi\", \"ia\", \"id\", \"il\", \"in\", \"ks\", \"ky\", \"la\", \"ma\",\n",
    "          \"md\", \"me\", \"mi\", \"mn\", \"mo\", \"ms\", \"mt\", \"nc\", \"nd\", \"ne\",\n",
    "          \"nh\", \"nj\", \"nm\", \"nv\", \"ny\", \"oh\", \"ok\", \"or\", \"pa\", \"ri\",\n",
    "          \"sc\", \"sd\", \"tn\", \"tx\", \"ut\", \"va\", \"vt\", \"wa\", \"wi\", \"wv\",\n",
    "          \"wy\", \"pr\" },\n",
    "\n",
    "  \"ca\": { \"ab\", \"bc\", \"mb\", \"nb\", \"nl\", \"nt\", \"ns\", \"nu\", \"on\", \"pe\",\n",
    "          \"qc\", \"sk\", \"yt\" }\n",
    "}"
   ]
  },
  {
   "cell_type": "code",
   "execution_count": 36,
   "id": "514bc75d",
   "metadata": {},
   "outputs": [
    {
     "data": {
      "text/plain": [
       "np.int64(3000)"
      ]
     },
     "execution_count": 36,
     "metadata": {},
     "output_type": "execute_result"
    }
   ],
   "source": [
    "ufo_df[ufo_df[\"country\"] == \"ca\"][\"country\"].count()"
   ]
  },
  {
   "cell_type": "code",
   "execution_count": 37,
   "id": "c4609e8f",
   "metadata": {},
   "outputs": [
    {
     "data": {
      "text/plain": [
       "state\n",
       "on     1354\n",
       "NaN     903\n",
       "ab      288\n",
       "mb      127\n",
       "qc      124\n",
       "nb       86\n",
       "pq       64\n",
       "sa       27\n",
       "nf       15\n",
       "pe       10\n",
       "yk        2\n",
       "Name: count, dtype: int64"
      ]
     },
     "execution_count": 37,
     "metadata": {},
     "output_type": "execute_result"
    }
   ],
   "source": [
    "#  Working on country = \"ca\"\n",
    "ufo_df[ufo_df[\"country\"] == \"ca\"][\"state\"].value_counts(dropna=False)"
   ]
  },
  {
   "cell_type": "code",
   "execution_count": 38,
   "id": "eeaa3a41",
   "metadata": {},
   "outputs": [],
   "source": [
    "## The below \"mask\" should be checked because its only for canada and i have also done a ca_mask somewhere"
   ]
  },
  {
   "cell_type": "code",
   "execution_count": 39,
   "id": "6150a40d",
   "metadata": {},
   "outputs": [
    {
     "data": {
      "text/plain": [
       "state\n",
       "pq    64\n",
       "sa    27\n",
       "nf    15\n",
       "yk     2\n",
       "Name: count, dtype: int64"
      ]
     },
     "execution_count": 39,
     "metadata": {},
     "output_type": "execute_result"
    }
   ],
   "source": [
    "#  Checking for invalid states codes for county == \"ca\"\n",
    "mask = (country == \"ca\") & (~state.isin(us_ca_codes[\"ca\"]) & (~state.isna()))\n",
    "ufo_df[mask][\"state\"].value_counts()"
   ]
  },
  {
   "cell_type": "markdown",
   "id": "b7957d54",
   "metadata": {},
   "source": [
    "**Canada — State Code Corrections**\n",
    "\n",
    "- **yk** → ***yt*** (Yukon)\n",
    "    Likely a typo; corrected to the official code *yt*.\n",
    "\n",
    "- **nf** → ***nl*** (Newfoundland and Labrador)\n",
    "    nf was the old Canada Post abbreviation before 2001; updated to *nl*.\n",
    "\n",
    "- **sa** → ***sk*** (Saskatchewan)\n",
    "    sa is not a valid Canadian code. Based on the Canada geography and the fact that “Saskatoon” is the largest city in Saskatchewan (Canada), the code was corrected to *sk*.\n",
    "\n",
    "- **pq** → ***qc*** (Québec)\n",
    "    pq was the old abbreviation for Québec; updated to *qc*.\n"
   ]
  },
  {
   "cell_type": "code",
   "execution_count": 40,
   "id": "429d1860",
   "metadata": {},
   "outputs": [],
   "source": [
    "ufo_df.loc[(mask) & (state == \"yk\"), \"state\"] = \"yt\"\n",
    "ufo_df.loc[(mask) & (state == \"nf\"), \"state\"] = \"nl\"\n",
    "ufo_df.loc[(mask) & (state == \"sa\"), \"state\"] = \"sk\"\n",
    "ufo_df.loc[(mask) & (state == \"pq\"), \"state\"] = \"qc\""
   ]
  },
  {
   "cell_type": "code",
   "execution_count": 41,
   "id": "9b80c83d",
   "metadata": {},
   "outputs": [
    {
     "name": "stdout",
     "output_type": "stream",
     "text": [
      "<class 'pandas.core.frame.DataFrame'>\n",
      "Index: 903 entries, 95 to 80295\n",
      "Data columns (total 11 columns):\n",
      " #   Column                Non-Null Count  Dtype         \n",
      "---  ------                --------------  -----         \n",
      " 0   datetime              903 non-null    datetime64[ns]\n",
      " 1   city                  903 non-null    object        \n",
      " 2   state                 0 non-null      object        \n",
      " 3   country               903 non-null    object        \n",
      " 4   shape                 903 non-null    object        \n",
      " 5   duration (seconds)    903 non-null    object        \n",
      " 6   duration (hours/min)  903 non-null    object        \n",
      " 7   comments              903 non-null    object        \n",
      " 8   date posted           903 non-null    object        \n",
      " 9   latitude              903 non-null    object        \n",
      " 10  longitude             903 non-null    float64       \n",
      "dtypes: datetime64[ns](1), float64(1), object(9)\n",
      "memory usage: 84.7+ KB\n"
     ]
    }
   ],
   "source": [
    "# futher investigating missing values in state code for country == \"ca\"\n",
    "ca_mask = (country == \"ca\") &  (state.isna())\n",
    "ufo_df.loc[ca_mask].info()"
   ]
  },
  {
   "cell_type": "code",
   "execution_count": 42,
   "id": "012af37f",
   "metadata": {},
   "outputs": [],
   "source": [
    "ufo_df.loc[ca_mask].drop_duplicates().to_csv(\"data/interim/canada_nan_cities.csv\", index=True)"
   ]
  },
  {
   "cell_type": "code",
   "execution_count": 43,
   "id": "75e721e7",
   "metadata": {},
   "outputs": [],
   "source": [
    "province_to_code = {\n",
    "    \"British Columbia\": \"bc\",\n",
    "    \"Nova Scotia\": \"ns\",\n",
    "    \"Saskatchewan\": \"sk\",\n",
    "    \"Prince Edward Island\": \"pe\",\n",
    "    \"Ontario\": \"on\",\n",
    "    \"Quebec\": \"qc\",\n",
    "    \"Manitoba\": \"mb\",\n",
    "    \"Northwest Territories\": \"nt\",\n",
    "    \"Nunavut\": \"nu\",\n",
    "    \"Yukon\": \"yt\",\n",
    "    \"New Brunswick\": \"nb\",\n",
    "}"
   ]
  },
  {
   "cell_type": "markdown",
   "id": "face2b0f",
   "metadata": {},
   "source": [
    "Mapping the state with state abbreviation in the file canada_nan_cities_mapped.csv. "
   ]
  },
  {
   "cell_type": "code",
   "execution_count": 44,
   "id": "38f60481",
   "metadata": {},
   "outputs": [],
   "source": [
    "ca_state_map_df = pd.read_csv(\n",
    "    \"data/interim/canada_nan_cities_mapped.csv\", \n",
    "    usecols=[\"Unnamed: 0\", \"results_state\"], \n",
    "    index_col=[\"Unnamed: 0\"]\n",
    "    )"
   ]
  },
  {
   "cell_type": "code",
   "execution_count": 45,
   "id": "3de08295",
   "metadata": {},
   "outputs": [
    {
     "data": {
      "text/html": [
       "<div>\n",
       "<style scoped>\n",
       "    .dataframe tbody tr th:only-of-type {\n",
       "        vertical-align: middle;\n",
       "    }\n",
       "\n",
       "    .dataframe tbody tr th {\n",
       "        vertical-align: top;\n",
       "    }\n",
       "\n",
       "    .dataframe thead th {\n",
       "        text-align: right;\n",
       "    }\n",
       "</style>\n",
       "<table border=\"1\" class=\"dataframe\">\n",
       "  <thead>\n",
       "    <tr style=\"text-align: right;\">\n",
       "      <th></th>\n",
       "      <th>results_state</th>\n",
       "    </tr>\n",
       "    <tr>\n",
       "      <th>Unnamed: 0</th>\n",
       "      <th></th>\n",
       "    </tr>\n",
       "  </thead>\n",
       "  <tbody>\n",
       "    <tr>\n",
       "      <th>95</th>\n",
       "      <td>Prince Edward Island</td>\n",
       "    </tr>\n",
       "    <tr>\n",
       "      <th>104</th>\n",
       "      <td>British Columbia</td>\n",
       "    </tr>\n",
       "    <tr>\n",
       "      <th>735</th>\n",
       "      <td>British Columbia</td>\n",
       "    </tr>\n",
       "    <tr>\n",
       "      <th>746</th>\n",
       "      <td>Saskatchewan</td>\n",
       "    </tr>\n",
       "    <tr>\n",
       "      <th>862</th>\n",
       "      <td>Saskatchewan</td>\n",
       "    </tr>\n",
       "  </tbody>\n",
       "</table>\n",
       "</div>"
      ],
      "text/plain": [
       "                   results_state\n",
       "Unnamed: 0                      \n",
       "95          Prince Edward Island\n",
       "104             British Columbia\n",
       "735             British Columbia\n",
       "746                 Saskatchewan\n",
       "862                 Saskatchewan"
      ]
     },
     "execution_count": 45,
     "metadata": {},
     "output_type": "execute_result"
    }
   ],
   "source": [
    "ca_state_map_df.head()"
   ]
  },
  {
   "cell_type": "code",
   "execution_count": 46,
   "id": "f70d9068",
   "metadata": {},
   "outputs": [],
   "source": [
    "ca_state_map_df[\"state\"] = ca_state_map_df[\"results_state\"].map(province_to_code)"
   ]
  },
  {
   "cell_type": "code",
   "execution_count": 47,
   "id": "08fa2913",
   "metadata": {},
   "outputs": [
    {
     "data": {
      "text/html": [
       "<div>\n",
       "<style scoped>\n",
       "    .dataframe tbody tr th:only-of-type {\n",
       "        vertical-align: middle;\n",
       "    }\n",
       "\n",
       "    .dataframe tbody tr th {\n",
       "        vertical-align: top;\n",
       "    }\n",
       "\n",
       "    .dataframe thead th {\n",
       "        text-align: right;\n",
       "    }\n",
       "</style>\n",
       "<table border=\"1\" class=\"dataframe\">\n",
       "  <thead>\n",
       "    <tr style=\"text-align: right;\">\n",
       "      <th></th>\n",
       "      <th>results_state</th>\n",
       "      <th>state</th>\n",
       "    </tr>\n",
       "    <tr>\n",
       "      <th>Unnamed: 0</th>\n",
       "      <th></th>\n",
       "      <th></th>\n",
       "    </tr>\n",
       "  </thead>\n",
       "  <tbody>\n",
       "    <tr>\n",
       "      <th>77152</th>\n",
       "      <td>British Columbia</td>\n",
       "      <td>bc</td>\n",
       "    </tr>\n",
       "    <tr>\n",
       "      <th>77232</th>\n",
       "      <td>British Columbia</td>\n",
       "      <td>bc</td>\n",
       "    </tr>\n",
       "    <tr>\n",
       "      <th>77549</th>\n",
       "      <td>British Columbia</td>\n",
       "      <td>bc</td>\n",
       "    </tr>\n",
       "    <tr>\n",
       "      <th>77750</th>\n",
       "      <td>British Columbia</td>\n",
       "      <td>bc</td>\n",
       "    </tr>\n",
       "    <tr>\n",
       "      <th>78211</th>\n",
       "      <td>British Columbia</td>\n",
       "      <td>bc</td>\n",
       "    </tr>\n",
       "  </tbody>\n",
       "</table>\n",
       "</div>"
      ],
      "text/plain": [
       "               results_state state\n",
       "Unnamed: 0                        \n",
       "77152       British Columbia    bc\n",
       "77232       British Columbia    bc\n",
       "77549       British Columbia    bc\n",
       "77750       British Columbia    bc\n",
       "78211       British Columbia    bc"
      ]
     },
     "execution_count": 47,
     "metadata": {},
     "output_type": "execute_result"
    }
   ],
   "source": [
    "ca_state_map_df.tail()"
   ]
  },
  {
   "cell_type": "markdown",
   "id": "ddff3622",
   "metadata": {},
   "source": [
    "Now combine the ufo_df with the canada_nan_cities_mapped.csv by index"
   ]
  },
  {
   "cell_type": "markdown",
   "id": "b77f080a",
   "metadata": {},
   "source": [
    "654 remaining state columns were without state for the country \"ca\" and used the python script to find the state value using latitude and longtiude. Then saved that to a new csv. Then added that to a df and combined with the original dataframe to fill the missing values in state columns "
   ]
  },
  {
   "cell_type": "code",
   "execution_count": 48,
   "id": "50a0c79c",
   "metadata": {},
   "outputs": [],
   "source": [
    "ufo_df[\"state\"] = ufo_df[\"state\"].fillna(ca_state_map_df[\"state\"])"
   ]
  },
  {
   "cell_type": "code",
   "execution_count": 49,
   "id": "83907724",
   "metadata": {},
   "outputs": [],
   "source": [
    "ca_nan_remain = ufo_df[ca_mask].loc[ufo_df[\"state\"].isna()]"
   ]
  },
  {
   "cell_type": "code",
   "execution_count": 50,
   "id": "aa8f48b2",
   "metadata": {},
   "outputs": [],
   "source": [
    "ca_nan_remain.to_csv(\"data/interim/canada_nan_reamining.csv\", index=True)"
   ]
  },
  {
   "cell_type": "code",
   "execution_count": 51,
   "id": "c74bec20",
   "metadata": {},
   "outputs": [],
   "source": [
    "ca_nan_remain_df = pd.read_csv(\n",
    "    \"data/interim/canada_nan_remaining_mapped.csv\",\n",
    "    usecols=[\"Unnamed: 0\", \"results_state\"],\n",
    "    index_col=[\"Unnamed: 0\"]\n",
    ")"
   ]
  },
  {
   "cell_type": "code",
   "execution_count": 52,
   "id": "9d5420ed",
   "metadata": {},
   "outputs": [],
   "source": [
    "ca_nan_remain_df[\"state\"] = ca_nan_remain_df[\"results_state\"].map(province_to_code)"
   ]
  },
  {
   "cell_type": "code",
   "execution_count": 53,
   "id": "096b1c97",
   "metadata": {},
   "outputs": [
    {
     "data": {
      "text/html": [
       "<div>\n",
       "<style scoped>\n",
       "    .dataframe tbody tr th:only-of-type {\n",
       "        vertical-align: middle;\n",
       "    }\n",
       "\n",
       "    .dataframe tbody tr th {\n",
       "        vertical-align: top;\n",
       "    }\n",
       "\n",
       "    .dataframe thead th {\n",
       "        text-align: right;\n",
       "    }\n",
       "</style>\n",
       "<table border=\"1\" class=\"dataframe\">\n",
       "  <thead>\n",
       "    <tr style=\"text-align: right;\">\n",
       "      <th></th>\n",
       "      <th>results_state</th>\n",
       "      <th>state</th>\n",
       "    </tr>\n",
       "    <tr>\n",
       "      <th>Unnamed: 0</th>\n",
       "      <th></th>\n",
       "      <th></th>\n",
       "    </tr>\n",
       "  </thead>\n",
       "  <tbody>\n",
       "    <tr>\n",
       "      <th>114</th>\n",
       "      <td>Prince Edward Island</td>\n",
       "      <td>pe</td>\n",
       "    </tr>\n",
       "    <tr>\n",
       "      <th>576</th>\n",
       "      <td>Prince Edward Island</td>\n",
       "      <td>pe</td>\n",
       "    </tr>\n",
       "    <tr>\n",
       "      <th>919</th>\n",
       "      <td>Saskatchewan</td>\n",
       "      <td>sk</td>\n",
       "    </tr>\n",
       "    <tr>\n",
       "      <th>1096</th>\n",
       "      <td>Prince Edward Island</td>\n",
       "      <td>pe</td>\n",
       "    </tr>\n",
       "    <tr>\n",
       "      <th>2510</th>\n",
       "      <td>Prince Edward Island</td>\n",
       "      <td>pe</td>\n",
       "    </tr>\n",
       "  </tbody>\n",
       "</table>\n",
       "</div>"
      ],
      "text/plain": [
       "                   results_state state\n",
       "Unnamed: 0                            \n",
       "114         Prince Edward Island    pe\n",
       "576         Prince Edward Island    pe\n",
       "919                 Saskatchewan    sk\n",
       "1096        Prince Edward Island    pe\n",
       "2510        Prince Edward Island    pe"
      ]
     },
     "execution_count": 53,
     "metadata": {},
     "output_type": "execute_result"
    }
   ],
   "source": [
    "ca_nan_remain_df.head()"
   ]
  },
  {
   "cell_type": "code",
   "execution_count": 54,
   "id": "2bc3e913",
   "metadata": {},
   "outputs": [],
   "source": [
    "ufo_df[\"state\"] = ufo_df[\"state\"].fillna(ca_nan_remain_df[\"state\"])"
   ]
  },
  {
   "cell_type": "code",
   "execution_count": 55,
   "id": "dffacd8f",
   "metadata": {},
   "outputs": [
    {
     "data": {
      "text/plain": [
       "datetime                    0\n",
       "city                        0\n",
       "state                   10814\n",
       "country                  9670\n",
       "shape                       0\n",
       "duration (seconds)          0\n",
       "duration (hours/min)        0\n",
       "comments                    0\n",
       "date posted                 0\n",
       "latitude                    0\n",
       "longitude                   0\n",
       "dtype: int64"
      ]
     },
     "execution_count": 55,
     "metadata": {},
     "output_type": "execute_result"
    }
   ],
   "source": [
    "ufo_df.isna().sum()"
   ]
  },
  {
   "cell_type": "markdown",
   "id": "b8bb2210",
   "metadata": {},
   "source": [
    "Dealing with US states Nan Values"
   ]
  },
  {
   "cell_type": "code",
   "execution_count": 56,
   "id": "13a6c4bb",
   "metadata": {},
   "outputs": [],
   "source": [
    "us_mask = (ufo_df[\"country\"] == \"us\") & (ufo_df[\"state\"].isna())"
   ]
  },
  {
   "cell_type": "code",
   "execution_count": 57,
   "id": "e1bf7a56",
   "metadata": {},
   "outputs": [
    {
     "data": {
      "text/plain": [
       "(4468, 11)"
      ]
     },
     "execution_count": 57,
     "metadata": {},
     "output_type": "execute_result"
    }
   ],
   "source": [
    "ufo_df[us_mask].shape"
   ]
  },
  {
   "cell_type": "code",
   "execution_count": 58,
   "id": "56e3af90",
   "metadata": {},
   "outputs": [],
   "source": [
    "ufo_df.loc[us_mask].drop_duplicates().to_csv(\"data/interim/usa_nan_states.csv\", index=True)"
   ]
  },
  {
   "cell_type": "markdown",
   "id": "eb8b885c",
   "metadata": {},
   "source": [
    "There ar 4468 countries with column value us and country nan"
   ]
  },
  {
   "cell_type": "code",
   "execution_count": 59,
   "id": "3ac2aab9",
   "metadata": {},
   "outputs": [],
   "source": [
    "us_state_abbrev = {\n",
    "    \"Alabama\": \"al\",\n",
    "    \"Alaska\": \"ak\",\n",
    "    \"Arizona\": \"az\",\n",
    "    \"Arkansas\": \"ar\",\n",
    "    \"California\": \"ca\",\n",
    "    \"Colorado\": \"co\",\n",
    "    \"Connecticut\": \"ct\",\n",
    "    \"Delaware\": \"de\",\n",
    "    \"Florida\": \"fl\",\n",
    "    \"Georgia\": \"ga\",\n",
    "    \"Hawaii\": \"hi\",\n",
    "    \"Idaho\": \"id\",\n",
    "    \"Illinois\": \"il\",\n",
    "    \"Indiana\": \"in\",\n",
    "    \"Iowa\": \"ia\",\n",
    "    \"Kansas\": \"ks\",\n",
    "    \"Kentucky\": \"ky\",\n",
    "    \"Louisiana\": \"la\",\n",
    "    \"Maine\": \"me\",\n",
    "    \"Maryland\": \"md\",\n",
    "    \"Massachusetts\": \"ma\",\n",
    "    \"Michigan\": \"mi\",\n",
    "    \"Minnesota\": \"mn\",\n",
    "    \"Mississippi\": \"ms\",\n",
    "    \"Missouri\": \"mo\",\n",
    "    \"Montana\": \"mt\",\n",
    "    \"Nebraska\": \"ne\",\n",
    "    \"Nevada\": \"nv\",\n",
    "    \"New Hampshire\": \"nh\",\n",
    "    \"New Jersey\": \"nj\",\n",
    "    \"New Mexico\": \"nm\",\n",
    "    \"New York\": \"ny\",\n",
    "    \"North Carolina\": \"nc\",\n",
    "    \"North Dakota\": \"nd\",\n",
    "    \"Ohio\": \"oh\",\n",
    "    \"Oklahoma\": \"ok\",\n",
    "    \"Oregon\": \"or\",\n",
    "    \"Pennsylvania\": \"pa\",\n",
    "    \"Rhode Island\": \"ri\",\n",
    "    \"South Carolina\": \"sc\",\n",
    "    \"South Dakota\": \"sd\",\n",
    "    \"Tennessee\": \"tn\",\n",
    "    \"Texas\": \"tx\",\n",
    "    \"Utah\": \"ut\",\n",
    "    \"Vermont\": \"vt\",\n",
    "    \"Virginia\": \"va\",\n",
    "    \"Washington\": \"wa\",\n",
    "    \"West Virginia\": \"wv\",\n",
    "    \"Wisconsin\": \"wi\",\n",
    "    \"Wyoming\": \"wy\"\n",
    "}\n"
   ]
  },
  {
   "cell_type": "code",
   "execution_count": 60,
   "metadata": {},
   "outputs": [],
   "source": [
    "usa_state_map_df = pd.read_csv(\n",
    "    r\"data\\interim\\usa_nan_cities_mapped.csv\", \n",
    "    usecols=[\"Unnamed: 0\", \"results_state\"], \n",
    "    index_col=[\"Unnamed: 0\"]\n",
    "    )"
   ]
  },
  {
   "cell_type": "code",
   "execution_count": 61,
   "id": "f9d606c4",
   "metadata": {},
   "outputs": [
    {
     "data": {
      "text/html": [
       "<div>\n",
       "<style scoped>\n",
       "    .dataframe tbody tr th:only-of-type {\n",
       "        vertical-align: middle;\n",
       "    }\n",
       "\n",
       "    .dataframe tbody tr th {\n",
       "        vertical-align: top;\n",
       "    }\n",
       "\n",
       "    .dataframe thead th {\n",
       "        text-align: right;\n",
       "    }\n",
       "</style>\n",
       "<table border=\"1\" class=\"dataframe\">\n",
       "  <thead>\n",
       "    <tr style=\"text-align: right;\">\n",
       "      <th></th>\n",
       "      <th>results_state</th>\n",
       "    </tr>\n",
       "    <tr>\n",
       "      <th>Unnamed: 0</th>\n",
       "      <th></th>\n",
       "    </tr>\n",
       "  </thead>\n",
       "  <tbody>\n",
       "    <tr>\n",
       "      <th>5</th>\n",
       "      <td>Tennessee</td>\n",
       "    </tr>\n",
       "    <tr>\n",
       "      <th>11</th>\n",
       "      <td>North Carolina</td>\n",
       "    </tr>\n",
       "    <tr>\n",
       "      <th>14</th>\n",
       "      <td>North Carolina</td>\n",
       "    </tr>\n",
       "    <tr>\n",
       "      <th>49</th>\n",
       "      <td>North Carolina</td>\n",
       "    </tr>\n",
       "    <tr>\n",
       "      <th>53</th>\n",
       "      <td>Tennessee</td>\n",
       "    </tr>\n",
       "  </tbody>\n",
       "</table>\n",
       "</div>"
      ],
      "text/plain": [
       "             results_state\n",
       "Unnamed: 0                \n",
       "5                Tennessee\n",
       "11          North Carolina\n",
       "14          North Carolina\n",
       "49          North Carolina\n",
       "53               Tennessee"
      ]
     },
     "execution_count": 61,
     "metadata": {},
     "output_type": "execute_result"
    }
   ],
   "source": [
    "usa_state_map_df.head()"
   ]
  },
  {
   "cell_type": "code",
   "execution_count": 62,
   "id": "e6c2cb6b",
   "metadata": {},
   "outputs": [],
   "source": [
    "usa_state_map_df[\"state\"] = usa_state_map_df[\"results_state\"].map(us_state_abbrev)"
   ]
  },
  {
   "cell_type": "code",
   "execution_count": 63,
   "id": "4aa6a66a",
   "metadata": {},
   "outputs": [
    {
     "data": {
      "text/html": [
       "<div>\n",
       "<style scoped>\n",
       "    .dataframe tbody tr th:only-of-type {\n",
       "        vertical-align: middle;\n",
       "    }\n",
       "\n",
       "    .dataframe tbody tr th {\n",
       "        vertical-align: top;\n",
       "    }\n",
       "\n",
       "    .dataframe thead th {\n",
       "        text-align: right;\n",
       "    }\n",
       "</style>\n",
       "<table border=\"1\" class=\"dataframe\">\n",
       "  <thead>\n",
       "    <tr style=\"text-align: right;\">\n",
       "      <th></th>\n",
       "      <th>results_state</th>\n",
       "      <th>state</th>\n",
       "    </tr>\n",
       "    <tr>\n",
       "      <th>Unnamed: 0</th>\n",
       "      <th></th>\n",
       "      <th></th>\n",
       "    </tr>\n",
       "  </thead>\n",
       "  <tbody>\n",
       "    <tr>\n",
       "      <th>80301</th>\n",
       "      <td>Tennessee</td>\n",
       "      <td>tn</td>\n",
       "    </tr>\n",
       "    <tr>\n",
       "      <th>80302</th>\n",
       "      <td>North Carolina</td>\n",
       "      <td>nc</td>\n",
       "    </tr>\n",
       "    <tr>\n",
       "      <th>80304</th>\n",
       "      <td>Tennessee</td>\n",
       "      <td>tn</td>\n",
       "    </tr>\n",
       "    <tr>\n",
       "      <th>80321</th>\n",
       "      <td>Tennessee</td>\n",
       "      <td>tn</td>\n",
       "    </tr>\n",
       "    <tr>\n",
       "      <th>80327</th>\n",
       "      <td>Tennessee</td>\n",
       "      <td>tn</td>\n",
       "    </tr>\n",
       "  </tbody>\n",
       "</table>\n",
       "</div>"
      ],
      "text/plain": [
       "             results_state state\n",
       "Unnamed: 0                      \n",
       "80301            Tennessee    tn\n",
       "80302       North Carolina    nc\n",
       "80304            Tennessee    tn\n",
       "80321            Tennessee    tn\n",
       "80327            Tennessee    tn"
      ]
     },
     "execution_count": 63,
     "metadata": {},
     "output_type": "execute_result"
    }
   ],
   "source": [
    "usa_state_map_df.tail()"
   ]
  },
  {
   "cell_type": "code",
   "execution_count": 64,
   "id": "30744ec1",
   "metadata": {},
   "outputs": [],
   "source": [
    "ufo_df[\"state\"] = ufo_df[\"state\"].fillna(usa_state_map_df[\"state\"])"
   ]
  },
  {
   "cell_type": "code",
   "execution_count": 65,
   "id": "4574739c",
   "metadata": {},
   "outputs": [
    {
     "data": {
      "text/html": [
       "<div>\n",
       "<style scoped>\n",
       "    .dataframe tbody tr th:only-of-type {\n",
       "        vertical-align: middle;\n",
       "    }\n",
       "\n",
       "    .dataframe tbody tr th {\n",
       "        vertical-align: top;\n",
       "    }\n",
       "\n",
       "    .dataframe thead th {\n",
       "        text-align: right;\n",
       "    }\n",
       "</style>\n",
       "<table border=\"1\" class=\"dataframe\">\n",
       "  <thead>\n",
       "    <tr style=\"text-align: right;\">\n",
       "      <th></th>\n",
       "      <th>datetime</th>\n",
       "      <th>city</th>\n",
       "      <th>state</th>\n",
       "      <th>country</th>\n",
       "      <th>shape</th>\n",
       "      <th>duration (seconds)</th>\n",
       "      <th>duration (hours/min)</th>\n",
       "      <th>comments</th>\n",
       "      <th>date posted</th>\n",
       "      <th>latitude</th>\n",
       "      <th>longitude</th>\n",
       "    </tr>\n",
       "  </thead>\n",
       "  <tbody>\n",
       "    <tr>\n",
       "      <th>5</th>\n",
       "      <td>1961-10-10 19:00:00</td>\n",
       "      <td>bristol</td>\n",
       "      <td>tn</td>\n",
       "      <td>us</td>\n",
       "      <td>sphere</td>\n",
       "      <td>300</td>\n",
       "      <td>5 minutes</td>\n",
       "      <td>My father is now 89 my brother 52 the girl wit...</td>\n",
       "      <td>2007-04-27</td>\n",
       "      <td>36.595</td>\n",
       "      <td>-82.188889</td>\n",
       "    </tr>\n",
       "    <tr>\n",
       "      <th>11</th>\n",
       "      <td>1968-10-10 19:00:00</td>\n",
       "      <td>brevard</td>\n",
       "      <td>nc</td>\n",
       "      <td>us</td>\n",
       "      <td>fireball</td>\n",
       "      <td>180</td>\n",
       "      <td>3 minutes</td>\n",
       "      <td>silent red /orange mass of energy floated by t...</td>\n",
       "      <td>2008-06-12</td>\n",
       "      <td>35.2333333</td>\n",
       "      <td>-82.734444</td>\n",
       "    </tr>\n",
       "    <tr>\n",
       "      <th>14</th>\n",
       "      <td>1971-10-10 21:00:00</td>\n",
       "      <td>lexington</td>\n",
       "      <td>nc</td>\n",
       "      <td>us</td>\n",
       "      <td>oval</td>\n",
       "      <td>30</td>\n",
       "      <td>30 seconds</td>\n",
       "      <td>green oval shaped light over my local church&amp;#...</td>\n",
       "      <td>2010-02-14</td>\n",
       "      <td>35.8238889</td>\n",
       "      <td>-80.253611</td>\n",
       "    </tr>\n",
       "    <tr>\n",
       "      <th>49</th>\n",
       "      <td>1991-10-10 22:00:00</td>\n",
       "      <td>frisco</td>\n",
       "      <td>nc</td>\n",
       "      <td>us</td>\n",
       "      <td>unknown</td>\n",
       "      <td>1800</td>\n",
       "      <td>30 minutes</td>\n",
       "      <td>A friend and myself were standing on the shore...</td>\n",
       "      <td>1999-01-28</td>\n",
       "      <td>35.235</td>\n",
       "      <td>-75.628889</td>\n",
       "    </tr>\n",
       "    <tr>\n",
       "      <th>53</th>\n",
       "      <td>1992-10-10 20:15:00</td>\n",
       "      <td>seymour</td>\n",
       "      <td>tn</td>\n",
       "      <td>us</td>\n",
       "      <td>cigar</td>\n",
       "      <td>60</td>\n",
       "      <td>1min. 39s</td>\n",
       "      <td>Stationary Elongated UFO 200ft above vacant fi...</td>\n",
       "      <td>2008-10-31</td>\n",
       "      <td>35.8905556</td>\n",
       "      <td>-83.724722</td>\n",
       "    </tr>\n",
       "  </tbody>\n",
       "</table>\n",
       "</div>"
      ],
      "text/plain": [
       "              datetime       city state country     shape duration (seconds)  \\\n",
       "5  1961-10-10 19:00:00    bristol    tn      us    sphere                300   \n",
       "11 1968-10-10 19:00:00    brevard    nc      us  fireball                180   \n",
       "14 1971-10-10 21:00:00  lexington    nc      us      oval                 30   \n",
       "49 1991-10-10 22:00:00     frisco    nc      us   unknown               1800   \n",
       "53 1992-10-10 20:15:00    seymour    tn      us     cigar                 60   \n",
       "\n",
       "   duration (hours/min)                                           comments  \\\n",
       "5             5 minutes  My father is now 89 my brother 52 the girl wit...   \n",
       "11            3 minutes  silent red /orange mass of energy floated by t...   \n",
       "14           30 seconds  green oval shaped light over my local church&#...   \n",
       "49           30 minutes  A friend and myself were standing on the shore...   \n",
       "53            1min. 39s  Stationary Elongated UFO 200ft above vacant fi...   \n",
       "\n",
       "   date posted    latitude  longitude  \n",
       "5   2007-04-27      36.595 -82.188889  \n",
       "11  2008-06-12  35.2333333 -82.734444  \n",
       "14  2010-02-14  35.8238889 -80.253611  \n",
       "49  1999-01-28      35.235 -75.628889  \n",
       "53  2008-10-31  35.8905556 -83.724722  "
      ]
     },
     "execution_count": 65,
     "metadata": {},
     "output_type": "execute_result"
    }
   ],
   "source": [
    "ufo_df[us_mask].head()"
   ]
  },
  {
   "cell_type": "markdown",
   "id": "c83d8ed2",
   "metadata": {},
   "source": [
    "Checking for NaN values in state where county is us, or ca and not au, de, gb"
   ]
  },
  {
   "cell_type": "code",
   "execution_count": 66,
   "id": "6711ab81",
   "metadata": {},
   "outputs": [
    {
     "data": {
      "text/plain": [
       "Series([], Name: count, dtype: int64)"
      ]
     },
     "execution_count": 66,
     "metadata": {},
     "output_type": "execute_result"
    }
   ],
   "source": [
    "ufo_df.loc[(ufo_df[\"country\"].isin([\"us\", \"ca\"])) & (ufo_df[\"state\"].isna()), \"country\"].value_counts()"
   ]
  },
  {
   "cell_type": "markdown",
   "id": "09e87e6c",
   "metadata": {},
   "source": [
    "Check Individually each countries and if here is any nan in their state column. For au, de, db will be having nan values. But for ca it should be zero and in the us there may be some missing values"
   ]
  },
  {
   "cell_type": "code",
   "execution_count": 67,
   "id": "6a6d4582",
   "metadata": {},
   "outputs": [
    {
     "data": {
      "text/plain": [
       "Series([], Name: count, dtype: int64)"
      ]
     },
     "execution_count": 67,
     "metadata": {},
     "output_type": "execute_result"
    }
   ],
   "source": [
    "ufo_df.loc[(ufo_df[\"state\"].isna()) & (ufo_df[\"country\"].isin([\"ca\", \"us\"])), [\"state\", \"country\"]].value_counts()"
   ]
  },
  {
   "cell_type": "code",
   "execution_count": 68,
   "id": "c95f6d55",
   "metadata": {},
   "outputs": [
    {
     "data": {
      "text/plain": [
       "country\n",
       "gb         1905\n",
       "au          538\n",
       "de          105\n",
       "Name: count, dtype: int64"
      ]
     },
     "execution_count": 68,
     "metadata": {},
     "output_type": "execute_result"
    }
   ],
   "source": [
    "ufo_df.loc[(ufo_df[\"state\"].isna()), [\"country\"]].value_counts()"
   ]
  },
  {
   "cell_type": "markdown",
   "id": "1071abea",
   "metadata": {},
   "source": [
    "Check for rows that has nan in country column and values in state columns"
   ]
  },
  {
   "cell_type": "code",
   "execution_count": 69,
   "id": "86db80a2",
   "metadata": {},
   "outputs": [
    {
     "name": "stdout",
     "output_type": "stream",
     "text": [
      "<class 'pandas.core.frame.DataFrame'>\n",
      "Index: 9670 entries, 1 to 80324\n",
      "Data columns (total 11 columns):\n",
      " #   Column                Non-Null Count  Dtype         \n",
      "---  ------                --------------  -----         \n",
      " 0   datetime              9670 non-null   datetime64[ns]\n",
      " 1   city                  9670 non-null   object        \n",
      " 2   state                 5872 non-null   object        \n",
      " 3   country               0 non-null      object        \n",
      " 4   shape                 9670 non-null   object        \n",
      " 5   duration (seconds)    9670 non-null   object        \n",
      " 6   duration (hours/min)  9670 non-null   object        \n",
      " 7   comments              9670 non-null   object        \n",
      " 8   date posted           9670 non-null   object        \n",
      " 9   latitude              9670 non-null   object        \n",
      " 10  longitude             9670 non-null   float64       \n",
      "dtypes: datetime64[ns](1), float64(1), object(9)\n",
      "memory usage: 906.6+ KB\n"
     ]
    }
   ],
   "source": [
    "ufo_df.loc[ufo_df[\"country\"].isna()].info()"
   ]
  },
  {
   "cell_type": "markdown",
   "id": "aeeba94e",
   "metadata": {},
   "source": [
    "There are 9670 rows in the column \"country\" has NaN value."
   ]
  },
  {
   "cell_type": "markdown",
   "id": "0c908672",
   "metadata": {},
   "source": [
    "1. find the rows that has values in state columns but country is missing"
   ]
  },
  {
   "cell_type": "code",
   "execution_count": 70,
   "id": "aaba31f2",
   "metadata": {},
   "outputs": [
    {
     "data": {
      "text/plain": [
       "np.int64(5872)"
      ]
     },
     "execution_count": 70,
     "metadata": {},
     "output_type": "execute_result"
    }
   ],
   "source": [
    "ufo_df.loc[(ufo_df[\"country\"].isna()) & ~(ufo_df[\"state\"].isna()), \"state\"].count()"
   ]
  },
  {
   "cell_type": "markdown",
   "id": "41207bc8",
   "metadata": {},
   "source": [
    "There are 5872 rows with values in state but missing values in country columns. \n",
    "- Need to check whether these values are states in us and canada. \n",
    "- If these values are not in us and ca, then investigate those rows.\n",
    "- If these values are of us and ca then map these using the us_ca_codes"
   ]
  },
  {
   "cell_type": "code",
   "execution_count": 71,
   "id": "7716586a",
   "metadata": {},
   "outputs": [
    {
     "data": {
      "text/html": [
       "<div>\n",
       "<style scoped>\n",
       "    .dataframe tbody tr th:only-of-type {\n",
       "        vertical-align: middle;\n",
       "    }\n",
       "\n",
       "    .dataframe tbody tr th {\n",
       "        vertical-align: top;\n",
       "    }\n",
       "\n",
       "    .dataframe thead th {\n",
       "        text-align: right;\n",
       "    }\n",
       "</style>\n",
       "<table border=\"1\" class=\"dataframe\">\n",
       "  <thead>\n",
       "    <tr style=\"text-align: right;\">\n",
       "      <th></th>\n",
       "      <th>datetime</th>\n",
       "      <th>city</th>\n",
       "      <th>state</th>\n",
       "      <th>country</th>\n",
       "      <th>shape</th>\n",
       "      <th>duration (seconds)</th>\n",
       "      <th>duration (hours/min)</th>\n",
       "      <th>comments</th>\n",
       "      <th>date posted</th>\n",
       "      <th>latitude</th>\n",
       "      <th>longitude</th>\n",
       "    </tr>\n",
       "  </thead>\n",
       "  <tbody>\n",
       "    <tr>\n",
       "      <th>1</th>\n",
       "      <td>1949-10-10 21:00:00</td>\n",
       "      <td>lackland afb</td>\n",
       "      <td>tx</td>\n",
       "      <td>NaN</td>\n",
       "      <td>light</td>\n",
       "      <td>7200</td>\n",
       "      <td>1-2 hrs</td>\n",
       "      <td>1949 Lackland AFB&amp;#44 TX.  Lights racing acros...</td>\n",
       "      <td>2005-12-16</td>\n",
       "      <td>29.38421</td>\n",
       "      <td>-98.581082</td>\n",
       "    </tr>\n",
       "    <tr>\n",
       "      <th>29</th>\n",
       "      <td>1979-10-10 22:00:00</td>\n",
       "      <td>saddle lake (canada)</td>\n",
       "      <td>ab</td>\n",
       "      <td>NaN</td>\n",
       "      <td>triangle</td>\n",
       "      <td>270</td>\n",
       "      <td>4.5 or more min.</td>\n",
       "      <td>Lights far above&amp;#44  that glance; then flee f...</td>\n",
       "      <td>2005-01-19</td>\n",
       "      <td>53.970571</td>\n",
       "      <td>-111.689885</td>\n",
       "    </tr>\n",
       "    <tr>\n",
       "      <th>40</th>\n",
       "      <td>1986-10-10 20:00:00</td>\n",
       "      <td>holmes/pawling</td>\n",
       "      <td>ny</td>\n",
       "      <td>NaN</td>\n",
       "      <td>chevron</td>\n",
       "      <td>180</td>\n",
       "      <td>3 minutes</td>\n",
       "      <td>Football Field Sized Chevron with bright white...</td>\n",
       "      <td>2007-10-08</td>\n",
       "      <td>41.523427</td>\n",
       "      <td>-73.646795</td>\n",
       "    </tr>\n",
       "    <tr>\n",
       "      <th>47</th>\n",
       "      <td>1989-10-10 21:00:00</td>\n",
       "      <td>kranklin</td>\n",
       "      <td>ky</td>\n",
       "      <td>NaN</td>\n",
       "      <td>triangle</td>\n",
       "      <td>180</td>\n",
       "      <td>3min</td>\n",
       "      <td>Triangle seen in franklin Ky - october 1989</td>\n",
       "      <td>2005-05-11</td>\n",
       "      <td>36.722263</td>\n",
       "      <td>-86.577218</td>\n",
       "    </tr>\n",
       "    <tr>\n",
       "      <th>58</th>\n",
       "      <td>1994-10-10 15:00:00</td>\n",
       "      <td>mercedies</td>\n",
       "      <td>tx</td>\n",
       "      <td>NaN</td>\n",
       "      <td>cigar</td>\n",
       "      <td>3600</td>\n",
       "      <td>1 hour</td>\n",
       "      <td>ufo chased by fighter jet over Rio Grande Vall...</td>\n",
       "      <td>2011-12-12</td>\n",
       "      <td>26.149798</td>\n",
       "      <td>-97.913611</td>\n",
       "    </tr>\n",
       "  </tbody>\n",
       "</table>\n",
       "</div>"
      ],
      "text/plain": [
       "              datetime                  city state country     shape  \\\n",
       "1  1949-10-10 21:00:00          lackland afb    tx     NaN     light   \n",
       "29 1979-10-10 22:00:00  saddle lake (canada)    ab     NaN  triangle   \n",
       "40 1986-10-10 20:00:00        holmes/pawling    ny     NaN   chevron   \n",
       "47 1989-10-10 21:00:00              kranklin    ky     NaN  triangle   \n",
       "58 1994-10-10 15:00:00             mercedies    tx     NaN     cigar   \n",
       "\n",
       "   duration (seconds) duration (hours/min)  \\\n",
       "1                7200              1-2 hrs   \n",
       "29                270     4.5 or more min.   \n",
       "40                180            3 minutes   \n",
       "47                180                 3min   \n",
       "58               3600               1 hour   \n",
       "\n",
       "                                             comments date posted   latitude  \\\n",
       "1   1949 Lackland AFB&#44 TX.  Lights racing acros...  2005-12-16   29.38421   \n",
       "29  Lights far above&#44  that glance; then flee f...  2005-01-19  53.970571   \n",
       "40  Football Field Sized Chevron with bright white...  2007-10-08  41.523427   \n",
       "47        Triangle seen in franklin Ky - october 1989  2005-05-11  36.722263   \n",
       "58  ufo chased by fighter jet over Rio Grande Vall...  2011-12-12  26.149798   \n",
       "\n",
       "     longitude  \n",
       "1   -98.581082  \n",
       "29 -111.689885  \n",
       "40  -73.646795  \n",
       "47  -86.577218  \n",
       "58  -97.913611  "
      ]
     },
     "execution_count": 71,
     "metadata": {},
     "output_type": "execute_result"
    }
   ],
   "source": [
    "nan_country_mask = (ufo_df[\"country\"].isna()) & ~(ufo_df[\"state\"].isna())\n",
    "ufo_df[nan_country_mask].head()"
   ]
  },
  {
   "cell_type": "code",
   "execution_count": 72,
   "id": "29f6a3fb",
   "metadata": {},
   "outputs": [
    {
     "data": {
      "text/plain": [
       "['tx',\n",
       " 'ab',\n",
       " 'ny',\n",
       " 'ky',\n",
       " 'fl',\n",
       " 'wi',\n",
       " 'mo',\n",
       " 'mi',\n",
       " 'nj',\n",
       " 'ar',\n",
       " 'pa',\n",
       " 'ca',\n",
       " 'ma',\n",
       " 'on',\n",
       " 'ne',\n",
       " 'oh',\n",
       " 'ut',\n",
       " 'hi',\n",
       " 'in',\n",
       " 'me',\n",
       " 'il',\n",
       " 'wa',\n",
       " 'ga',\n",
       " 'ak',\n",
       " 'nv',\n",
       " 'sc',\n",
       " 'mn',\n",
       " 'or',\n",
       " 'mb',\n",
       " 'al',\n",
       " 'co',\n",
       " 'az',\n",
       " 'va',\n",
       " 'ct',\n",
       " 'nf',\n",
       " 'nm',\n",
       " 'ok',\n",
       " 'nh',\n",
       " 'ks',\n",
       " 'qc',\n",
       " 'vt',\n",
       " 'dc',\n",
       " 'mt',\n",
       " 'md',\n",
       " 'ia',\n",
       " 'nb',\n",
       " 'yk',\n",
       " 'wy',\n",
       " 'id',\n",
       " 'sd',\n",
       " 'pq',\n",
       " 'nd',\n",
       " 'de',\n",
       " 'pe',\n",
       " 'pr',\n",
       " 'sa']"
      ]
     },
     "execution_count": 72,
     "metadata": {},
     "output_type": "execute_result"
    }
   ],
   "source": [
    "list(ufo_df[nan_country_mask][\"state\"].unique())"
   ]
  },
  {
   "cell_type": "markdown",
   "id": "bd29d137",
   "metadata": {},
   "source": [
    "Checked whether us and ca share any same state abbreviation and found out they dont. so i combined both country's state abbreviation to check whether any other code is there because of typo or other mistake and found out there isnt."
   ]
  },
  {
   "cell_type": "code",
   "execution_count": 73,
   "id": "26181690",
   "metadata": {},
   "outputs": [],
   "source": [
    "us_ca_list = list(us_ca_codes[\"us\"]) + list(us_ca_codes[\"ca\"])"
   ]
  },
  {
   "cell_type": "code",
   "execution_count": 74,
   "id": "efe51e58",
   "metadata": {},
   "outputs": [
    {
     "name": "stdout",
     "output_type": "stream",
     "text": [
      "nf\n",
      "yk\n",
      "pq\n",
      "sa\n"
     ]
    }
   ],
   "source": [
    "for val in list(ufo_df[nan_country_mask][\"state\"].unique()):\n",
    "    if val not in us_ca_list:\n",
    "        print(val)"
   ]
  },
  {
   "cell_type": "markdown",
   "id": "4507c51d",
   "metadata": {},
   "source": [
    "Mapping the state to their respective countries"
   ]
  },
  {
   "cell_type": "code",
   "execution_count": 75,
   "id": "82155625",
   "metadata": {},
   "outputs": [],
   "source": [
    "def get_country_from_state(state):\n",
    "    if pd.isna(state):\n",
    "        return None\n",
    "    \n",
    "    if state in us_ca_codes[\"us\"]:\n",
    "        return \"us\"\n",
    "    elif state in us_ca_codes[\"ca\"]:\n",
    "        return \"ca\"\n",
    "    else:\n",
    "        return None"
   ]
  },
  {
   "cell_type": "code",
   "execution_count": 76,
   "id": "362ffbe6",
   "metadata": {},
   "outputs": [],
   "source": [
    "ufo_df[\"country\"] = ufo_df[\"state\"].apply(get_country_from_state)"
   ]
  },
  {
   "cell_type": "code",
   "execution_count": 77,
   "id": "8dc3d21b",
   "metadata": {},
   "outputs": [
    {
     "data": {
      "text/plain": [
       "datetime                5872\n",
       "city                    5872\n",
       "state                   5872\n",
       "country                 5830\n",
       "shape                   5872\n",
       "duration (seconds)      5872\n",
       "duration (hours/min)    5872\n",
       "comments                5872\n",
       "date posted             5872\n",
       "latitude                5872\n",
       "longitude               5872\n",
       "dtype: int64"
      ]
     },
     "execution_count": 77,
     "metadata": {},
     "output_type": "execute_result"
    }
   ],
   "source": [
    "ufo_df[nan_country_mask].count()"
   ]
  },
  {
   "cell_type": "markdown",
   "id": "e18a9a87",
   "metadata": {},
   "source": [
    "Working on columns that has no country and state values"
   ]
  },
  {
   "cell_type": "code",
   "execution_count": 78,
   "id": "f251e5f1",
   "metadata": {},
   "outputs": [
    {
     "data": {
      "text/plain": [
       "datetime                6346\n",
       "city                    6346\n",
       "state                      0\n",
       "country                    0\n",
       "shape                   6346\n",
       "duration (seconds)      6346\n",
       "duration (hours/min)    6346\n",
       "comments                6346\n",
       "date posted             6346\n",
       "latitude                6346\n",
       "longitude               6346\n",
       "dtype: int64"
      ]
     },
     "execution_count": 78,
     "metadata": {},
     "output_type": "execute_result"
    }
   ],
   "source": [
    "ufo_df.loc[(ufo_df[\"country\"].isna()) & (ufo_df[\"state\"].isna())].count()"
   ]
  },
  {
   "cell_type": "markdown",
   "id": "b121e0c2",
   "metadata": {},
   "source": [
    "There are 6346 countries with missing values in both state and country columns.nan_col_count\n",
    "\n",
    "Using the python script that extract value based on longtitude and latitude, will get the values for each country. \n",
    "\n",
    "- if the country is any of the 5 countries from the dataset (us, ca, au, gb. de) -> the value will be that itself. if the value is us or ca then the state value will be also extracted. \n",
    "\n",
    "- if the county is not from 5 countries list then the value will be rof (rest of world).\n",
    "\n"
   ]
  },
  {
   "cell_type": "code",
   "execution_count": 79,
   "id": "5ec22a51",
   "metadata": {},
   "outputs": [],
   "source": [
    "ufo_df.loc[(ufo_df[\"country\"].isna()) & (ufo_df[\"state\"].isna())].to_csv(\"data/interim/country_nan.csv\", index=True)"
   ]
  },
  {
   "cell_type": "code",
   "execution_count": 80,
   "id": "7ed99a9d",
   "metadata": {},
   "outputs": [],
   "source": [
    "country_nan_df = pd.read_csv(\n",
    "    \"data/interim/country_nan_mapped.csv\", \n",
    "    usecols=[\"Unnamed: 0\", \"results_state\", \"results_country\"],\n",
    "    index_col=\"Unnamed: 0\"\n",
    "    )"
   ]
  },
  {
   "cell_type": "code",
   "execution_count": 81,
   "id": "f6ae982b",
   "metadata": {},
   "outputs": [
    {
     "data": {
      "text/html": [
       "<div>\n",
       "<style scoped>\n",
       "    .dataframe tbody tr th:only-of-type {\n",
       "        vertical-align: middle;\n",
       "    }\n",
       "\n",
       "    .dataframe tbody tr th {\n",
       "        vertical-align: top;\n",
       "    }\n",
       "\n",
       "    .dataframe thead th {\n",
       "        text-align: right;\n",
       "    }\n",
       "</style>\n",
       "<table border=\"1\" class=\"dataframe\">\n",
       "  <thead>\n",
       "    <tr style=\"text-align: right;\">\n",
       "      <th></th>\n",
       "      <th>results_state</th>\n",
       "      <th>results_country</th>\n",
       "    </tr>\n",
       "    <tr>\n",
       "      <th>Unnamed: 0</th>\n",
       "      <th></th>\n",
       "      <th></th>\n",
       "    </tr>\n",
       "  </thead>\n",
       "  <tbody>\n",
       "    <tr>\n",
       "      <th>80234</th>\n",
       "      <td>NaN</td>\n",
       "      <td>gb</td>\n",
       "    </tr>\n",
       "    <tr>\n",
       "      <th>80254</th>\n",
       "      <td>NaN</td>\n",
       "      <td>gb</td>\n",
       "    </tr>\n",
       "    <tr>\n",
       "      <th>80255</th>\n",
       "      <td>NaN</td>\n",
       "      <td>de</td>\n",
       "    </tr>\n",
       "    <tr>\n",
       "      <th>80322</th>\n",
       "      <td>NaN</td>\n",
       "      <td>row</td>\n",
       "    </tr>\n",
       "    <tr>\n",
       "      <th>80324</th>\n",
       "      <td>nc</td>\n",
       "      <td>us</td>\n",
       "    </tr>\n",
       "  </tbody>\n",
       "</table>\n",
       "</div>"
      ],
      "text/plain": [
       "           results_state results_country\n",
       "Unnamed: 0                              \n",
       "80234                NaN              gb\n",
       "80254                NaN              gb\n",
       "80255                NaN              de\n",
       "80322                NaN             row\n",
       "80324                 nc              us"
      ]
     },
     "execution_count": 81,
     "metadata": {},
     "output_type": "execute_result"
    }
   ],
   "source": [
    "country_nan_df.tail()"
   ]
  },
  {
   "cell_type": "code",
   "execution_count": 82,
   "id": "b36c50eb",
   "metadata": {},
   "outputs": [],
   "source": [
    "ufo_df[\"country\"] = ufo_df[\"country\"].fillna(country_nan_df[\"results_country\"])"
   ]
  },
  {
   "cell_type": "code",
   "execution_count": 83,
   "id": "ead7a0bb",
   "metadata": {},
   "outputs": [
    {
     "data": {
      "text/plain": [
       "datetime                6388\n",
       "city                    6388\n",
       "state                     42\n",
       "country                 6346\n",
       "shape                   6388\n",
       "duration (seconds)      6388\n",
       "duration (hours/min)    6388\n",
       "comments                6388\n",
       "date posted             6388\n",
       "latitude                6388\n",
       "longitude               6388\n",
       "dtype: int64"
      ]
     },
     "execution_count": 83,
     "metadata": {},
     "output_type": "execute_result"
    }
   ],
   "source": [
    "ufo_df.loc[(ufo_df[\"country\"].isna()) | (ufo_df[\"state\"].isna())].count()"
   ]
  },
  {
   "cell_type": "code",
   "execution_count": 84,
   "id": "9500f962",
   "metadata": {},
   "outputs": [],
   "source": [
    "ufo_df[\"state\"] = ufo_df[\"state\"].fillna(country_nan_df[\"results_state\"])"
   ]
  },
  {
   "cell_type": "code",
   "execution_count": 85,
   "id": "ff544fde",
   "metadata": {},
   "outputs": [
    {
     "name": "stdout",
     "output_type": "stream",
     "text": [
      "<class 'pandas.core.frame.DataFrame'>\n",
      "RangeIndex: 80332 entries, 0 to 80331\n",
      "Data columns (total 11 columns):\n",
      " #   Column                Non-Null Count  Dtype         \n",
      "---  ------                --------------  -----         \n",
      " 0   datetime              80332 non-null  datetime64[ns]\n",
      " 1   city                  80332 non-null  object        \n",
      " 2   state                 74636 non-null  object        \n",
      " 3   country               80290 non-null  object        \n",
      " 4   shape                 80332 non-null  object        \n",
      " 5   duration (seconds)    80332 non-null  object        \n",
      " 6   duration (hours/min)  80332 non-null  object        \n",
      " 7   comments              80332 non-null  object        \n",
      " 8   date posted           80332 non-null  object        \n",
      " 9   latitude              80332 non-null  object        \n",
      " 10  longitude             80332 non-null  float64       \n",
      "dtypes: datetime64[ns](1), float64(1), object(9)\n",
      "memory usage: 6.7+ MB\n"
     ]
    }
   ],
   "source": [
    "ufo_df.info()"
   ]
  },
  {
   "cell_type": "markdown",
   "id": "73ad06b2",
   "metadata": {},
   "source": [
    "Find the sum of nan value in state.\n",
    "\n",
    "Find the sum of each countries au, gb, de, row -- the sum of these values should be the sum of total nan value in the dataset."
   ]
  },
  {
   "cell_type": "code",
   "execution_count": 86,
   "id": "cce1c48f",
   "metadata": {},
   "outputs": [
    {
     "data": {
      "text/plain": [
       "np.int64(5696)"
      ]
     },
     "execution_count": 86,
     "metadata": {},
     "output_type": "execute_result"
    }
   ],
   "source": [
    "ufo_df[\"state\"].isna().sum()"
   ]
  },
  {
   "cell_type": "code",
   "execution_count": 87,
   "id": "717c356d",
   "metadata": {},
   "outputs": [
    {
     "data": {
      "text/plain": [
       "np.int64(5696)"
      ]
     },
     "execution_count": 87,
     "metadata": {},
     "output_type": "execute_result"
    }
   ],
   "source": [
    "ufo_df.loc[ufo_df[\"country\"].isin([\"gb\", \"au\", \"de\", \"row\"]), \"state\"].isna().sum()"
   ]
  },
  {
   "cell_type": "markdown",
   "id": "14603cf9",
   "metadata": {},
   "source": [
    "Looking for unique and weird values"
   ]
  },
  {
   "cell_type": "markdown",
   "id": "5f856a21",
   "metadata": {},
   "source": [
    "### Data Audit - Column: duration (seconds)\n",
    "- Found 3 values with backticks (\\`2\\`, \\`8\\`, \\`0.5\\`).\n",
    "- Applied cleaning: removed backticks, stripped whitespace\n",
    "- Rows affected: 3\n"
   ]
  },
  {
   "cell_type": "code",
   "execution_count": 88,
   "id": "3d3fefb0",
   "metadata": {},
   "outputs": [
    {
     "data": {
      "text/plain": [
       "np.int64(0)"
      ]
     },
     "execution_count": 88,
     "metadata": {},
     "output_type": "execute_result"
    }
   ],
   "source": [
    "ufo_df[\"duration (seconds)\"].isna().sum()"
   ]
  },
  {
   "cell_type": "code",
   "execution_count": 89,
   "id": "82250681",
   "metadata": {},
   "outputs": [],
   "source": [
    "ufo_df[\"duration_(seconds)_cleaned\"] = pd.to_numeric(ufo_df['duration (seconds)'], errors=\"coerce\")"
   ]
  },
  {
   "cell_type": "code",
   "execution_count": 90,
   "id": "d78bae63",
   "metadata": {},
   "outputs": [
    {
     "data": {
      "text/plain": [
       "np.int64(3)"
      ]
     },
     "execution_count": 90,
     "metadata": {},
     "output_type": "execute_result"
    }
   ],
   "source": [
    "ufo_df[\"duration_(seconds)_cleaned\"].isna().sum()"
   ]
  },
  {
   "cell_type": "code",
   "execution_count": 91,
   "id": "50b49986",
   "metadata": {},
   "outputs": [
    {
     "name": "stdout",
     "output_type": "stream",
     "text": [
      "Values coerced to NaN: 3\n"
     ]
    }
   ],
   "source": [
    "coerced_count = (\n",
    "    ufo_df[\"duration_(seconds)_cleaned\"].isna().sum()\n",
    "    - ufo_df[\"duration (seconds)\"].isna().sum()\n",
    ")\n",
    "\n",
    "print(f\"Values coerced to NaN: {coerced_count}\")"
   ]
  },
  {
   "cell_type": "code",
   "execution_count": 92,
   "id": "7951f70a",
   "metadata": {},
   "outputs": [
    {
     "data": {
      "text/html": [
       "<div>\n",
       "<style scoped>\n",
       "    .dataframe tbody tr th:only-of-type {\n",
       "        vertical-align: middle;\n",
       "    }\n",
       "\n",
       "    .dataframe tbody tr th {\n",
       "        vertical-align: top;\n",
       "    }\n",
       "\n",
       "    .dataframe thead th {\n",
       "        text-align: right;\n",
       "    }\n",
       "</style>\n",
       "<table border=\"1\" class=\"dataframe\">\n",
       "  <thead>\n",
       "    <tr style=\"text-align: right;\">\n",
       "      <th></th>\n",
       "      <th>datetime</th>\n",
       "      <th>city</th>\n",
       "      <th>state</th>\n",
       "      <th>country</th>\n",
       "      <th>shape</th>\n",
       "      <th>duration (seconds)</th>\n",
       "      <th>duration (hours/min)</th>\n",
       "      <th>comments</th>\n",
       "      <th>date posted</th>\n",
       "      <th>latitude</th>\n",
       "      <th>longitude</th>\n",
       "      <th>duration_(seconds)_cleaned</th>\n",
       "    </tr>\n",
       "  </thead>\n",
       "  <tbody>\n",
       "    <tr>\n",
       "      <th>27822</th>\n",
       "      <td>2000-02-02 19:33:00</td>\n",
       "      <td>bouse</td>\n",
       "      <td>az</td>\n",
       "      <td>us</td>\n",
       "      <td>unknown</td>\n",
       "      <td>2`</td>\n",
       "      <td>each a few seconds</td>\n",
       "      <td>Driving through Plomosa Pass towards Bouse Loo...</td>\n",
       "      <td>2000-02-16</td>\n",
       "      <td>33.9325</td>\n",
       "      <td>-114.005000</td>\n",
       "      <td>NaN</td>\n",
       "    </tr>\n",
       "    <tr>\n",
       "      <th>35692</th>\n",
       "      <td>2005-04-10 22:52:00</td>\n",
       "      <td>santa cruz</td>\n",
       "      <td>ca</td>\n",
       "      <td>us</td>\n",
       "      <td>unknown</td>\n",
       "      <td>8`</td>\n",
       "      <td>eight seconds</td>\n",
       "      <td>2 red lights moving together and apart with a ...</td>\n",
       "      <td>2005-04-16</td>\n",
       "      <td>36.9741667</td>\n",
       "      <td>-122.029722</td>\n",
       "      <td>NaN</td>\n",
       "    </tr>\n",
       "    <tr>\n",
       "      <th>58591</th>\n",
       "      <td>2006-07-21 13:00:00</td>\n",
       "      <td>ibague (colombia)</td>\n",
       "      <td>NaN</td>\n",
       "      <td>row</td>\n",
       "      <td>circle</td>\n",
       "      <td>0.5`</td>\n",
       "      <td>1/2 segundo</td>\n",
       "      <td>Viajaba a 27.000 pies en un avion comercial ve...</td>\n",
       "      <td>2006-10-30</td>\n",
       "      <td>4.440663</td>\n",
       "      <td>-75.244141</td>\n",
       "      <td>NaN</td>\n",
       "    </tr>\n",
       "  </tbody>\n",
       "</table>\n",
       "</div>"
      ],
      "text/plain": [
       "                 datetime               city state country    shape  \\\n",
       "27822 2000-02-02 19:33:00              bouse    az      us  unknown   \n",
       "35692 2005-04-10 22:52:00         santa cruz    ca      us  unknown   \n",
       "58591 2006-07-21 13:00:00  ibague (colombia)   NaN     row   circle   \n",
       "\n",
       "      duration (seconds) duration (hours/min)  \\\n",
       "27822                 2`   each a few seconds   \n",
       "35692                 8`        eight seconds   \n",
       "58591               0.5`          1/2 segundo   \n",
       "\n",
       "                                                comments date posted  \\\n",
       "27822  Driving through Plomosa Pass towards Bouse Loo...  2000-02-16   \n",
       "35692  2 red lights moving together and apart with a ...  2005-04-16   \n",
       "58591  Viajaba a 27.000 pies en un avion comercial ve...  2006-10-30   \n",
       "\n",
       "         latitude   longitude  duration_(seconds)_cleaned  \n",
       "27822     33.9325 -114.005000                         NaN  \n",
       "35692  36.9741667 -122.029722                         NaN  \n",
       "58591    4.440663  -75.244141                         NaN  "
      ]
     },
     "execution_count": 92,
     "metadata": {},
     "output_type": "execute_result"
    }
   ],
   "source": [
    "mask = ufo_df[\"duration_(seconds)_cleaned\"].isna() & ~ufo_df[\"duration (seconds)\"].isna()\n",
    "\n",
    "ufo_df.loc[mask, :]"
   ]
  },
  {
   "cell_type": "code",
   "execution_count": 93,
   "id": "5e5eae6d",
   "metadata": {},
   "outputs": [],
   "source": [
    "ufo_df.drop(columns=\"duration_(seconds)_cleaned\", inplace=True)"
   ]
  },
  {
   "cell_type": "code",
   "execution_count": 94,
   "id": "d272aa32",
   "metadata": {},
   "outputs": [
    {
     "name": "stdout",
     "output_type": "stream",
     "text": [
      "<class 'pandas.core.frame.DataFrame'>\n",
      "RangeIndex: 80332 entries, 0 to 80331\n",
      "Data columns (total 11 columns):\n",
      " #   Column                Non-Null Count  Dtype         \n",
      "---  ------                --------------  -----         \n",
      " 0   datetime              80332 non-null  datetime64[ns]\n",
      " 1   city                  80332 non-null  object        \n",
      " 2   state                 74636 non-null  object        \n",
      " 3   country               80290 non-null  object        \n",
      " 4   shape                 80332 non-null  object        \n",
      " 5   duration (seconds)    80332 non-null  float64       \n",
      " 6   duration (hours/min)  80332 non-null  object        \n",
      " 7   comments              80332 non-null  object        \n",
      " 8   date posted           80332 non-null  object        \n",
      " 9   latitude              80332 non-null  object        \n",
      " 10  longitude             80332 non-null  float64       \n",
      "dtypes: datetime64[ns](1), float64(2), object(8)\n",
      "memory usage: 6.7+ MB\n"
     ]
    }
   ],
   "source": [
    "# Clean \"duration (seconds)\" column\n",
    "ufo_df[\"duration (seconds)\"] = (\n",
    "    ufo_df[\"duration (seconds)\"]\n",
    "    .astype(str)\n",
    "    .str.replace(\"`\", \"\")\n",
    "    .str.strip()\n",
    ")\n",
    "\n",
    "ufo_df[\"duration (seconds)\"] = pd.to_numeric(ufo_df[\"duration (seconds)\"], errors=\"coerce\")\n",
    "ufo_df.info()\n"
   ]
  },
  {
   "cell_type": "markdown",
   "id": "c63bbd52",
   "metadata": {},
   "source": [
    "Summary stats before cleaning the \"duration (seconds) column\""
   ]
  },
  {
   "cell_type": "code",
   "execution_count": 95,
   "id": "271c6f4f",
   "metadata": {},
   "outputs": [
    {
     "name": "stdout",
     "output_type": "stream",
     "text": [
      "count      80332.00\n",
      "mean        9016.89\n",
      "std       620216.79\n",
      "min            0.00\n",
      "25%           30.00\n",
      "50%          180.00\n",
      "75%          600.00\n",
      "max     97836000.00\n"
     ]
    }
   ],
   "source": [
    "print(ufo_df[\"duration (seconds)\"].describe().to_string(float_format=\"{:.2f}\".format))"
   ]
  },
  {
   "cell_type": "markdown",
   "id": "85a8ca72",
   "metadata": {},
   "source": [
    "- The dataset contains extreme outliers, which heavily skewing the data. \n",
    "- The standard deviation is 620216.79 (i.e ≈ 7 days) showing that the data has extreme variablity due to outliers. \n",
    "- The min value is 0 seconds, which is likely due to bad data entry that requires further investigation. \n",
    "- The max value is 97836000.00 (≈ 3 years!). Clearly a data entry error.\n",
    "- Duration percentiles:\n",
    "\n",
    "  - 25% of sightings lasted <= 30 seconds.\n",
    "  - 50% of sightings lasted <= 180 seconds (3 minutes)\n",
    "  - 75% of sightings lasted <= 600 seconds (10 minutes)\n",
    "  \n",
    "  These obversations clearly shows that most sightings are short (30 secs - 10 mins).\n",
    "- Overall, the data is highly skewed and the outliers are needed to be dealt with before any further analysis. "
   ]
  },
  {
   "cell_type": "code",
   "execution_count": 96,
   "id": "97ce5f2c",
   "metadata": {},
   "outputs": [
    {
     "data": {
      "image/png": "[encoded data removed]",
      "text/plain": [
       "<Figure size 640x480 with 1 Axes>"
      ]
     },
     "metadata": {},
     "output_type": "display_data"
    }
   ],
   "source": [
    "plt.title(\"Boxplot of UFO Sighting Durations (in seconds) (Highly Skewed Data)\")\n",
    "sns.boxplot(data=ufo_df, y=\"duration (seconds)\")\n",
    "plt.show()"
   ]
  },
  {
   "cell_type": "code",
   "execution_count": 97,
   "id": "4a3798db",
   "metadata": {},
   "outputs": [
    {
     "data": {
      "image/png": "[encoded data removed]",
      "text/plain": [
       "<Figure size 640x480 with 1 Axes>"
      ]
     },
     "metadata": {},
     "output_type": "display_data"
    }
   ],
   "source": [
    "plt.title(\"Histogram of UFO Sighting Durations (in seconds) (Highly Skewed Data)\")\n",
    "sns.histplot(ufo_df[\"duration (seconds)\"], bins=100, log_scale=(True, False))\n",
    "plt.xlabel(\"duration (seconds, log scale)\")\n",
    "plt.show()"
   ]
  },
  {
   "cell_type": "markdown",
   "id": "2cd859fd",
   "metadata": {},
   "source": [
    "Dealing with outliers in Duration column"
   ]
  },
  {
   "cell_type": "markdown",
   "id": "fcd8a6cb",
   "metadata": {},
   "source": [
    "Investigating and cleaning 0-second durations"
   ]
  },
  {
   "cell_type": "code",
   "execution_count": 98,
   "id": "6203647f",
   "metadata": {},
   "outputs": [
    {
     "data": {
      "text/html": [
       "<div>\n",
       "<style scoped>\n",
       "    .dataframe tbody tr th:only-of-type {\n",
       "        vertical-align: middle;\n",
       "    }\n",
       "\n",
       "    .dataframe tbody tr th {\n",
       "        vertical-align: top;\n",
       "    }\n",
       "\n",
       "    .dataframe thead th {\n",
       "        text-align: right;\n",
       "    }\n",
       "</style>\n",
       "<table border=\"1\" class=\"dataframe\">\n",
       "  <thead>\n",
       "    <tr style=\"text-align: right;\">\n",
       "      <th></th>\n",
       "      <th>datetime</th>\n",
       "      <th>city</th>\n",
       "      <th>state</th>\n",
       "      <th>country</th>\n",
       "      <th>shape</th>\n",
       "      <th>duration (seconds)</th>\n",
       "      <th>duration (hours/min)</th>\n",
       "      <th>comments</th>\n",
       "      <th>date posted</th>\n",
       "      <th>latitude</th>\n",
       "      <th>longitude</th>\n",
       "    </tr>\n",
       "  </thead>\n",
       "  <tbody>\n",
       "    <tr>\n",
       "      <th>1659</th>\n",
       "      <td>2011-10-14 21:20:00</td>\n",
       "      <td>holbrook</td>\n",
       "      <td>az</td>\n",
       "      <td>us</td>\n",
       "      <td>other</td>\n",
       "      <td>0.100</td>\n",
       "      <td>.10 seconds</td>\n",
       "      <td>This fast moving craft was low flying and not ...</td>\n",
       "      <td>2011-12-12</td>\n",
       "      <td>34.9022222</td>\n",
       "      <td>-110.157500</td>\n",
       "    </tr>\n",
       "    <tr>\n",
       "      <th>2038</th>\n",
       "      <td>2001-10-15 20:22:00</td>\n",
       "      <td>port orchard</td>\n",
       "      <td>wa</td>\n",
       "      <td>us</td>\n",
       "      <td>circle</td>\n",
       "      <td>0.050</td>\n",
       "      <td>.05 seconds</td>\n",
       "      <td>Large blue circular object observed falling at...</td>\n",
       "      <td>2001-11-20</td>\n",
       "      <td>47.5405556</td>\n",
       "      <td>-122.635000</td>\n",
       "    </tr>\n",
       "    <tr>\n",
       "      <th>2274</th>\n",
       "      <td>2013-10-15 20:35:00</td>\n",
       "      <td>reseda</td>\n",
       "      <td>ca</td>\n",
       "      <td>us</td>\n",
       "      <td>sphere</td>\n",
       "      <td>0.500</td>\n",
       "      <td>&lt;0.5 second</td>\n",
       "      <td>Green laser ball spontaneously appears at elev...</td>\n",
       "      <td>2013-10-23</td>\n",
       "      <td>34.2011111</td>\n",
       "      <td>-118.535556</td>\n",
       "    </tr>\n",
       "    <tr>\n",
       "      <th>2617</th>\n",
       "      <td>2009-10-17 21:30:00</td>\n",
       "      <td>maple lake</td>\n",
       "      <td>mn</td>\n",
       "      <td>us</td>\n",
       "      <td>fireball</td>\n",
       "      <td>0.500</td>\n",
       "      <td>1/2 second</td>\n",
       "      <td>Green fireball north of Maple Lake&amp;#44 Minnesota</td>\n",
       "      <td>2009-12-12</td>\n",
       "      <td>45.2291667</td>\n",
       "      <td>-94.001667</td>\n",
       "    </tr>\n",
       "    <tr>\n",
       "      <th>4081</th>\n",
       "      <td>2008-10-23 04:45:00</td>\n",
       "      <td>remote</td>\n",
       "      <td>wy</td>\n",
       "      <td>us</td>\n",
       "      <td>flash</td>\n",
       "      <td>0.001</td>\n",
       "      <td>0.001sec</td>\n",
       "      <td>brilliant strobe light at 4am&amp;#44 moving light...</td>\n",
       "      <td>2009-01-10</td>\n",
       "      <td>-46.163992</td>\n",
       "      <td>169.875050</td>\n",
       "    </tr>\n",
       "    <tr>\n",
       "      <th>...</th>\n",
       "      <td>...</td>\n",
       "      <td>...</td>\n",
       "      <td>...</td>\n",
       "      <td>...</td>\n",
       "      <td>...</td>\n",
       "      <td>...</td>\n",
       "      <td>...</td>\n",
       "      <td>...</td>\n",
       "      <td>...</td>\n",
       "      <td>...</td>\n",
       "      <td>...</td>\n",
       "    </tr>\n",
       "    <tr>\n",
       "      <th>78381</th>\n",
       "      <td>1999-09-29 14:30:00</td>\n",
       "      <td>warnambool&amp;#44 vic (australia)</td>\n",
       "      <td>NaN</td>\n",
       "      <td>au</td>\n",
       "      <td>unknown</td>\n",
       "      <td>0.050</td>\n",
       "      <td>0.05 seconds</td>\n",
       "      <td>It was very quick. We have a picture of it.</td>\n",
       "      <td>1999-11-02</td>\n",
       "      <td>-38.382766</td>\n",
       "      <td>142.484499</td>\n",
       "    </tr>\n",
       "    <tr>\n",
       "      <th>78776</th>\n",
       "      <td>2010-09-30 13:05:00</td>\n",
       "      <td>cedar rapids</td>\n",
       "      <td>ia</td>\n",
       "      <td>us</td>\n",
       "      <td>triangle</td>\n",
       "      <td>0.500</td>\n",
       "      <td>about half a second</td>\n",
       "      <td>Flying object in the background of our video i...</td>\n",
       "      <td>2010-11-21</td>\n",
       "      <td>42.008333</td>\n",
       "      <td>-91.643889</td>\n",
       "    </tr>\n",
       "    <tr>\n",
       "      <th>79159</th>\n",
       "      <td>2008-09-04 06:15:00</td>\n",
       "      <td>eldridge</td>\n",
       "      <td>al</td>\n",
       "      <td>us</td>\n",
       "      <td>diamond</td>\n",
       "      <td>0.500</td>\n",
       "      <td>0.5  seconds</td>\n",
       "      <td>09/04/08  eldridge&amp;#44al diamond object  0.5 s...</td>\n",
       "      <td>2008-10-31</td>\n",
       "      <td>33.922778</td>\n",
       "      <td>-87.617222</td>\n",
       "    </tr>\n",
       "    <tr>\n",
       "      <th>79160</th>\n",
       "      <td>2008-09-04 14:00:00</td>\n",
       "      <td>maury (france)</td>\n",
       "      <td>nc</td>\n",
       "      <td>us</td>\n",
       "      <td>triangle</td>\n",
       "      <td>0.500</td>\n",
       "      <td>half a second</td>\n",
       "      <td>triangle shaped craft exceeding 10000 miles an...</td>\n",
       "      <td>2008-10-31</td>\n",
       "      <td>35.480757</td>\n",
       "      <td>-77.586387</td>\n",
       "    </tr>\n",
       "    <tr>\n",
       "      <th>79486</th>\n",
       "      <td>1995-09-06 21:30:00</td>\n",
       "      <td>grand canyon&amp;#44 north rim</td>\n",
       "      <td>az</td>\n",
       "      <td>us</td>\n",
       "      <td>light</td>\n",
       "      <td>0.500</td>\n",
       "      <td>1/2 second</td>\n",
       "      <td>While driving North on the only paved road out...</td>\n",
       "      <td>2000-08-05</td>\n",
       "      <td>36.231719</td>\n",
       "      <td>-113.030911</td>\n",
       "    </tr>\n",
       "  </tbody>\n",
       "</table>\n",
       "<p>93 rows × 11 columns</p>\n",
       "</div>"
      ],
      "text/plain": [
       "                 datetime                            city state country  \\\n",
       "1659  2011-10-14 21:20:00                        holbrook    az      us   \n",
       "2038  2001-10-15 20:22:00                    port orchard    wa      us   \n",
       "2274  2013-10-15 20:35:00                          reseda    ca      us   \n",
       "2617  2009-10-17 21:30:00                      maple lake    mn      us   \n",
       "4081  2008-10-23 04:45:00                          remote    wy      us   \n",
       "...                   ...                             ...   ...     ...   \n",
       "78381 1999-09-29 14:30:00  warnambool&#44 vic (australia)   NaN      au   \n",
       "78776 2010-09-30 13:05:00                    cedar rapids    ia      us   \n",
       "79159 2008-09-04 06:15:00                        eldridge    al      us   \n",
       "79160 2008-09-04 14:00:00                  maury (france)    nc      us   \n",
       "79486 1995-09-06 21:30:00      grand canyon&#44 north rim    az      us   \n",
       "\n",
       "          shape  duration (seconds) duration (hours/min)  \\\n",
       "1659      other               0.100          .10 seconds   \n",
       "2038     circle               0.050          .05 seconds   \n",
       "2274     sphere               0.500          <0.5 second   \n",
       "2617   fireball               0.500           1/2 second   \n",
       "4081      flash               0.001             0.001sec   \n",
       "...         ...                 ...                  ...   \n",
       "78381   unknown               0.050         0.05 seconds   \n",
       "78776  triangle               0.500  about half a second   \n",
       "79159   diamond               0.500         0.5  seconds   \n",
       "79160  triangle               0.500        half a second   \n",
       "79486     light               0.500           1/2 second   \n",
       "\n",
       "                                                comments date posted  \\\n",
       "1659   This fast moving craft was low flying and not ...  2011-12-12   \n",
       "2038   Large blue circular object observed falling at...  2001-11-20   \n",
       "2274   Green laser ball spontaneously appears at elev...  2013-10-23   \n",
       "2617    Green fireball north of Maple Lake&#44 Minnesota  2009-12-12   \n",
       "4081   brilliant strobe light at 4am&#44 moving light...  2009-01-10   \n",
       "...                                                  ...         ...   \n",
       "78381        It was very quick. We have a picture of it.  1999-11-02   \n",
       "78776  Flying object in the background of our video i...  2010-11-21   \n",
       "79159  09/04/08  eldridge&#44al diamond object  0.5 s...  2008-10-31   \n",
       "79160  triangle shaped craft exceeding 10000 miles an...  2008-10-31   \n",
       "79486  While driving North on the only paved road out...  2000-08-05   \n",
       "\n",
       "         latitude   longitude  \n",
       "1659   34.9022222 -110.157500  \n",
       "2038   47.5405556 -122.635000  \n",
       "2274   34.2011111 -118.535556  \n",
       "2617   45.2291667  -94.001667  \n",
       "4081   -46.163992  169.875050  \n",
       "...           ...         ...  \n",
       "78381  -38.382766  142.484499  \n",
       "78776   42.008333  -91.643889  \n",
       "79159   33.922778  -87.617222  \n",
       "79160   35.480757  -77.586387  \n",
       "79486   36.231719 -113.030911  \n",
       "\n",
       "[93 rows x 11 columns]"
      ]
     },
     "execution_count": 98,
     "metadata": {},
     "output_type": "execute_result"
    }
   ],
   "source": [
    "ufo_df.loc[ufo_df[\"duration (seconds)\"] < 1]"
   ]
  },
  {
   "cell_type": "code",
   "execution_count": 99,
   "id": "d211ebf7",
   "metadata": {},
   "outputs": [
    {
     "data": {
      "image/png": "[encoded data removed]",
      "text/plain": [
       "<Figure size 640x480 with 1 Axes>"
      ]
     },
     "metadata": {},
     "output_type": "display_data"
    }
   ],
   "source": [
    "sns.histplot(ufo_df.loc[ufo_df[\"duration (seconds)\"] < 1, \"duration (seconds)\"], bins=20)\n",
    "plt.title(\"Distribution of UFO Sightings ≤ 1 Second (n=93)\")\n",
    "plt.show()"
   ]
  },
  {
   "cell_type": "markdown",
   "id": "69e31b31",
   "metadata": {},
   "source": [
    "There are 93 sightings with reported durations of ≤ 1 second. Such short durations are likely unrealistic or the result of data entry noise. Therefore, these rows were dropped from the dataset to improve data quality."
   ]
  },
  {
   "cell_type": "code",
   "execution_count": 100,
   "id": "f82a8e47",
   "metadata": {},
   "outputs": [],
   "source": [
    "ufo_df.drop(ufo_df[ufo_df[\"duration (seconds)\"] < 1].index, inplace=True)"
   ]
  },
  {
   "cell_type": "code",
   "execution_count": 101,
   "id": "21dc41fe",
   "metadata": {},
   "outputs": [
    {
     "name": "stdout",
     "output_type": "stream",
     "text": [
      "<class 'pandas.core.frame.DataFrame'>\n",
      "Index: 80239 entries, 0 to 80331\n",
      "Data columns (total 11 columns):\n",
      " #   Column                Non-Null Count  Dtype         \n",
      "---  ------                --------------  -----         \n",
      " 0   datetime              80239 non-null  datetime64[ns]\n",
      " 1   city                  80239 non-null  object        \n",
      " 2   state                 74551 non-null  object        \n",
      " 3   country               80197 non-null  object        \n",
      " 4   shape                 80239 non-null  object        \n",
      " 5   duration (seconds)    80239 non-null  float64       \n",
      " 6   duration (hours/min)  80239 non-null  object        \n",
      " 7   comments              80239 non-null  object        \n",
      " 8   date posted           80239 non-null  object        \n",
      " 9   latitude              80239 non-null  object        \n",
      " 10  longitude             80239 non-null  float64       \n",
      "dtypes: datetime64[ns](1), float64(2), object(8)\n",
      "memory usage: 7.3+ MB\n"
     ]
    }
   ],
   "source": [
    "ufo_df.info()"
   ]
  },
  {
   "cell_type": "markdown",
   "id": "78f80a0d",
   "metadata": {},
   "source": [
    "Decide on an outlier handling strategy (clip, log transform, or exclude beyond a percentile)."
   ]
  },
  {
   "cell_type": "markdown",
   "id": "520dc986",
   "metadata": {},
   "source": [
    "Investigating and cleaning unrealistic max values"
   ]
  },
  {
   "cell_type": "code",
   "execution_count": 102,
   "id": "987a649d",
   "metadata": {},
   "outputs": [
    {
     "data": {
      "text/plain": [
       "datetime                18341\n",
       "city                    18341\n",
       "state                   17151\n",
       "country                 18331\n",
       "shape                   18341\n",
       "duration (seconds)      18341\n",
       "duration (hours/min)    18341\n",
       "comments                18341\n",
       "date posted             18341\n",
       "latitude                18341\n",
       "longitude               18341\n",
       "dtype: int64"
      ]
     },
     "execution_count": 102,
     "metadata": {},
     "output_type": "execute_result"
    }
   ],
   "source": [
    "ufo_df.loc[ufo_df[\"duration (seconds)\"] > 600] \\\n",
    ".sort_values(by=\"duration (seconds)\", ascending=False).count()"
   ]
  },
  {
   "cell_type": "markdown",
   "id": "048aa9ee",
   "metadata": {},
   "source": [
    "A log-spaced binned histogram for the entire datset that shows how spread out the data is in the \"duration (seconds)\" column. "
   ]
  },
  {
   "cell_type": "code",
   "execution_count": 103,
   "id": "10156b22",
   "metadata": {},
   "outputs": [],
   "source": [
    "s = ufo_df[\"duration (seconds)\"]\n",
    "\n",
    "bins = np.logspace(\n",
    "    np.log10(s[s>0].min()), \n",
    "    np.log10(s.quantile(0.999)), \n",
    "    60\n",
    "    )"
   ]
  },
  {
   "cell_type": "code",
   "execution_count": 104,
   "id": "dd7f50d3",
   "metadata": {},
   "outputs": [
    {
     "data": {
      "image/png": "[encoded data removed]",
      "text/plain": [
       "<Figure size 640x480 with 1 Axes>"
      ]
     },
     "metadata": {},
     "output_type": "display_data"
    }
   ],
   "source": [
    "sns.histplot(s[s>0], bins=bins, edgecolor=\"black\", linewidth=0.5)\n",
    "plt.xscale(\"log\")\n",
    "plt.xlabel(\"Duration (seconds, log scale)\")\n",
    "plt.ylabel(\"Count\")\n",
    "plt.title(\"Distribution of UFO sighting durations (log scale)\")\n",
    "plt.show()"
   ]
  },
  {
   "cell_type": "markdown",
   "id": "f95c3056",
   "metadata": {},
   "source": [
    "- X-axis (Duration, log scale):\n",
    "    - 10<sup>2</sup> = 1000 seconds ≈ 16 minutes\n",
    "    - 10<sup>3</sup> = 10,000 seconds ≈ 2.7 hours\n",
    "    - 10<sup>4</sup> = 100,000 seconds ≈ 27 hours (~1 day)\n",
    "    - 10<sup>5</sup> = 1,000,000 seconds ≈ 11.6 days\n",
    "- Y-axis (count):\n",
    "    How many sightings fall into each bin"
   ]
  },
  {
   "cell_type": "code",
   "execution_count": 105,
   "id": "d63a5512",
   "metadata": {},
   "outputs": [],
   "source": [
    "s_long = ufo_df[ufo_df[\"duration (seconds)\"] > 600][\"duration (seconds)\"]\n",
    "\n",
    "# create log-spaced bins\n",
    "bins_long = np.logspace(\n",
    "    np.log10(s_long.min()),\n",
    "    np.log10(s_long.quantile(0.999)),  # cut off extreme outliers\n",
    "    50\n",
    ")"
   ]
  },
  {
   "cell_type": "code",
   "execution_count": 106,
   "id": "90e9cf05",
   "metadata": {},
   "outputs": [
    {
     "data": {
      "image/png": "[encoded data removed]",
      "text/plain": [
       "<Figure size 640x480 with 1 Axes>"
      ]
     },
     "metadata": {},
     "output_type": "display_data"
    }
   ],
   "source": [
    "sns.histplot(s_long, bins=bins_long, edgecolor=\"black\", linewidth=0.5)\n",
    "plt.xscale(\"log\")\n",
    "plt.xlabel(\"Duration (seconds, log scale)\")\n",
    "plt.ylabel(\"Count\")\n",
    "plt.title(\"Distribution of UFO sightings > 600 seconds (log scale)\")\n",
    "plt.show()"
   ]
  },
  {
   "cell_type": "markdown",
   "id": "df34d211",
   "metadata": {},
   "source": [
    "- 600 seconds (10 minutes) was the cutoff used to define \"long sightings\".\n",
    "- A total of 18341 values are above 600s. \n",
    "- The majority of hte cluster fall between 15 - 30 minutes in the long sightings category. \n",
    "- A small number of extreme outliers extend into days or even weeks, which are likely due to overestimation or data entry errors.”"
   ]
  },
  {
   "cell_type": "code",
   "execution_count": 107,
   "id": "c430f5e8",
   "metadata": {},
   "outputs": [],
   "source": [
    "bins = [600, 1800, 3600, 10800, 21600, 43200, 86400, 604800, float(\"inf\")]\n",
    "labels = [\n",
    "    \"10–30 min\",\n",
    "    \"30–60 min\",\n",
    "    \"1–3 hr\",\n",
    "    \"3–6 hr\",\n",
    "    \"6–12 hr\",\n",
    "    \"12–24 hr\",\n",
    "    \"1–7 days\",\n",
    "    \">7 days\"\n",
    "]"
   ]
  },
  {
   "cell_type": "code",
   "execution_count": 108,
   "metadata": {},
   "outputs": [],
   "source": [
    "s_long_binned = pd.cut(s_long, bins=bins, labels=labels, right=False)"
   ]
  },
  {
   "cell_type": "code",
   "execution_count": 109,
   "id": "2aea282a",
   "metadata": {},
   "outputs": [
    {
     "data": {
      "text/html": [
       "<div>\n",
       "<style scoped>\n",
       "    .dataframe tbody tr th:only-of-type {\n",
       "        vertical-align: middle;\n",
       "    }\n",
       "\n",
       "    .dataframe tbody tr th {\n",
       "        vertical-align: top;\n",
       "    }\n",
       "\n",
       "    .dataframe thead th {\n",
       "        text-align: right;\n",
       "    }\n",
       "</style>\n",
       "<table border=\"1\" class=\"dataframe\">\n",
       "  <thead>\n",
       "    <tr style=\"text-align: right;\">\n",
       "      <th></th>\n",
       "      <th>Count</th>\n",
       "      <th>Percentage</th>\n",
       "    </tr>\n",
       "    <tr>\n",
       "      <th>duration (seconds)</th>\n",
       "      <th></th>\n",
       "      <th></th>\n",
       "    </tr>\n",
       "  </thead>\n",
       "  <tbody>\n",
       "    <tr>\n",
       "      <th>10–30 min</th>\n",
       "      <td>8338</td>\n",
       "      <td>45.46</td>\n",
       "    </tr>\n",
       "    <tr>\n",
       "      <th>30–60 min</th>\n",
       "      <td>4596</td>\n",
       "      <td>25.06</td>\n",
       "    </tr>\n",
       "    <tr>\n",
       "      <th>1–3 hr</th>\n",
       "      <td>3957</td>\n",
       "      <td>21.57</td>\n",
       "    </tr>\n",
       "    <tr>\n",
       "      <th>3–6 hr</th>\n",
       "      <td>933</td>\n",
       "      <td>5.09</td>\n",
       "    </tr>\n",
       "    <tr>\n",
       "      <th>6–12 hr</th>\n",
       "      <td>255</td>\n",
       "      <td>1.39</td>\n",
       "    </tr>\n",
       "    <tr>\n",
       "      <th>12–24 hr</th>\n",
       "      <td>45</td>\n",
       "      <td>0.25</td>\n",
       "    </tr>\n",
       "    <tr>\n",
       "      <th>1–7 days</th>\n",
       "      <td>148</td>\n",
       "      <td>0.81</td>\n",
       "    </tr>\n",
       "    <tr>\n",
       "      <th>&gt;7 days</th>\n",
       "      <td>69</td>\n",
       "      <td>0.38</td>\n",
       "    </tr>\n",
       "  </tbody>\n",
       "</table>\n",
       "</div>"
      ],
      "text/plain": [
       "                    Count  Percentage\n",
       "duration (seconds)                   \n",
       "10–30 min            8338       45.46\n",
       "30–60 min            4596       25.06\n",
       "1–3 hr               3957       21.57\n",
       "3–6 hr                933        5.09\n",
       "6–12 hr               255        1.39\n",
       "12–24 hr               45        0.25\n",
       "1–7 days              148        0.81\n",
       ">7 days                69        0.38"
      ]
     },
     "execution_count": 109,
     "metadata": {},
     "output_type": "execute_result"
    }
   ],
   "source": [
    "counts = s_long_binned.value_counts().sort_index()\n",
    "percentages = (counts / len(s_long) * 100).round(2)\n",
    "\n",
    "summary = pd.DataFrame({\"Count\": counts, \"Percentage\": percentages})\n",
    "summary"
   ]
  },
  {
   "cell_type": "code",
   "execution_count": 110,
   "id": "986d27ea",
   "metadata": {},
   "outputs": [
    {
     "data": {
      "image/png": "[encoded data removed]",
      "text/plain": [
       "<Figure size 640x480 with 1 Axes>"
      ]
     },
     "metadata": {},
     "output_type": "display_data"
    }
   ],
   "source": [
    "sns.barplot(summary, x=\"duration (seconds)\", y=\"Count\")\n",
    "plt.xticks(rotation=45)\n",
    "plt.title(\"Distribution of Long-Duration UFO Sightings (>10 Minutes)\")\n",
    "plt.xlabel(\"Duration Category\")\n",
    "plt.show()"
   ]
  },
  {
   "cell_type": "markdown",
   "id": "1bf57594",
   "metadata": {},
   "source": [
    "Out of 18,341 long-duration sightings (>10 minutes), only 217 (~1.2%) lasted longer than 24 hours.\n",
    "\n",
    "Relative to the full dataset (80322 rows), this represents just ~0.3% of the reported sightings. Because of the negligible proportion and how much these values are skewing the distribution, these rows were dropped for further analysis."
   ]
  },
  {
   "cell_type": "code",
   "execution_count": 111,
   "id": "35eb7df6",
   "metadata": {},
   "outputs": [],
   "source": [
    "ufo_df.drop(ufo_df[ufo_df[\"duration (seconds)\"] >= 86400].index, inplace=True)"
   ]
  },
  {
   "cell_type": "code",
   "execution_count": 112,
   "id": "8f5fc1c5",
   "metadata": {},
   "outputs": [
    {
     "data": {
      "text/plain": [
       "count    80022.000000\n",
       "mean       887.839515\n",
       "std       2881.677718\n",
       "min          1.000000\n",
       "25%         30.000000\n",
       "50%        180.000000\n",
       "75%        600.000000\n",
       "max      73800.000000\n",
       "Name: duration (seconds), dtype: float64"
      ]
     },
     "execution_count": 112,
     "metadata": {},
     "output_type": "execute_result"
    }
   ],
   "source": [
    "ufo_df[\"duration (seconds)\"].describe()"
   ]
  },
  {
   "cell_type": "markdown",
   "id": "d6837ac2",
   "metadata": {},
   "source": [
    "- Re-analyze distribution after cleaning to confirm skew reduction."
   ]
  },
  {
   "cell_type": "code",
   "execution_count": 113,
   "id": "63d44061",
   "metadata": {},
   "outputs": [
    {
     "data": {
      "image/png": "[encoded data removed]",
      "text/plain": [
       "<Figure size 640x480 with 1 Axes>"
      ]
     },
     "metadata": {},
     "output_type": "display_data"
    }
   ],
   "source": [
    "sns.histplot(ufo_df[\"duration (seconds)\"], bins=500, linewidth=0.5)\n",
    "plt.title(\"Distribution of UFO sighting durations (log scale) - After cleaning\")\n",
    "plt.xscale(\"log\")\n",
    "plt.show()"
   ]
  },
  {
   "cell_type": "markdown",
   "id": "1f419354",
   "metadata": {},
   "source": [
    "- After cleaning mult-day and mult-year outliers are gone. \n",
    "- Distribution focuses on plausible values.\n",
    "- Most UFO sightings are short. These clusters are between a few seconds and few minutes. \n",
    "- Very long sightings exists but are much rarer. "
   ]
  },
  {
   "cell_type": "markdown",
   "id": "4960a2ad",
   "metadata": {},
   "source": [
    "Summary stats after cleaning"
   ]
  },
  {
   "cell_type": "code",
   "execution_count": 114,
   "id": "61608dcd",
   "metadata": {},
   "outputs": [
    {
     "name": "stdout",
     "output_type": "stream",
     "text": [
      "count   80022.00\n",
      "mean      887.84\n",
      "std      2881.68\n",
      "min         1.00\n",
      "25%        30.00\n",
      "50%       180.00\n",
      "75%       600.00\n",
      "max     73800.00\n"
     ]
    }
   ],
   "source": [
    "print(ufo_df[\"duration (seconds)\"].describe().to_string(float_format=\"{:.2f}\".format))"
   ]
  },
  {
   "cell_type": "code",
   "execution_count": 115,
   "id": "aabe00b7",
   "metadata": {},
   "outputs": [
    {
     "data": {
      "text/plain": [
       "count    80022.000000\n",
       "mean       887.839515\n",
       "std       2881.677718\n",
       "min          1.000000\n",
       "25%         30.000000\n",
       "50%        180.000000\n",
       "75%        600.000000\n",
       "90%       1800.000000\n",
       "95%       3600.000000\n",
       "99%      10800.000000\n",
       "max      73800.000000\n",
       "Name: duration (seconds), dtype: float64"
      ]
     },
     "execution_count": 115,
     "metadata": {},
     "output_type": "execute_result"
    }
   ],
   "source": [
    "ufo_df[\"duration (seconds)\"].describe(percentiles=[.25, .5, .75, .9, .95, .99])"
   ]
  },
  {
   "cell_type": "markdown",
   "id": "e4f1af0f",
   "metadata": {},
   "source": [
    "### Sanity Check - Longitude\n",
    "\n",
    "Checked the minimum and maximum values for longtitude and confirmed that values are within the valid range -180 to 180.\n"
   ]
  },
  {
   "cell_type": "code",
   "execution_count": 116,
   "id": "2702ae67",
   "metadata": {},
   "outputs": [
    {
     "data": {
      "text/plain": [
       "count    80022.000000\n",
       "mean       -86.788383\n",
       "std         39.639786\n",
       "min       -176.658056\n",
       "25%       -112.073333\n",
       "50%        -87.902778\n",
       "75%        -78.758326\n",
       "max        178.441900\n",
       "Name: longitude, dtype: float64"
      ]
     },
     "execution_count": 116,
     "metadata": {},
     "output_type": "execute_result"
    }
   ],
   "source": [
    "ufo_df[\"longitude\"].describe()"
   ]
  },
  {
   "cell_type": "markdown",
   "id": "9ffacba2",
   "metadata": {},
   "source": [
    "### Data Audit - Column: latitude              \n",
    "- Found 1 invalid entry: \"33q.200088\"\n",
    "    Cross checked the latitude using the longtiude (-105.624152), city (Mescalero Indian Reservation), and state (NM) and confirmed that the correct latitude for this region is ≈ 33.2°N, indicating that the \"q\" is a typo. \n",
    "- Applied cleaning: removed \"q\" character\n",
    "- Rows affected: 1\n"
   ]
  },
  {
   "cell_type": "code",
   "execution_count": 117,
   "id": "1d035a25",
   "metadata": {},
   "outputs": [
    {
     "data": {
      "text/plain": [
       "np.int64(0)"
      ]
     },
     "execution_count": 117,
     "metadata": {},
     "output_type": "execute_result"
    }
   ],
   "source": [
    "ufo_df[\"latitude\"].isna().sum()\n"
   ]
  },
  {
   "cell_type": "code",
   "execution_count": 118,
   "id": "72d2c0a3",
   "metadata": {},
   "outputs": [],
   "source": [
    "ufo_df[\"latitude_cleaned\"] = pd.to_numeric(ufo_df[\"latitude\"], errors=\"coerce\")"
   ]
  },
  {
   "cell_type": "code",
   "execution_count": 119,
   "id": "0ea82ff7",
   "metadata": {},
   "outputs": [
    {
     "data": {
      "text/plain": [
       "np.int64(1)"
      ]
     },
     "execution_count": 119,
     "metadata": {},
     "output_type": "execute_result"
    }
   ],
   "source": [
    "ufo_df[\"latitude_cleaned\"].isna().sum()"
   ]
  },
  {
   "cell_type": "code",
   "execution_count": 120,
   "id": "2142de7f",
   "metadata": {},
   "outputs": [
    {
     "name": "stdout",
     "output_type": "stream",
     "text": [
      "Values coerced to NaN: 1\n"
     ]
    }
   ],
   "source": [
    "coerced_count = (\n",
    "    ufo_df[\"latitude_cleaned\"].isna().sum()\n",
    "    - ufo_df[\"latitude\"].isna().sum()\n",
    ")\n",
    "\n",
    "print(f\"Values coerced to NaN: {coerced_count}\")"
   ]
  },
  {
   "cell_type": "code",
   "execution_count": 121,
   "id": "372e36cd",
   "metadata": {},
   "outputs": [
    {
     "data": {
      "text/html": [
       "<div>\n",
       "<style scoped>\n",
       "    .dataframe tbody tr th:only-of-type {\n",
       "        vertical-align: middle;\n",
       "    }\n",
       "\n",
       "    .dataframe tbody tr th {\n",
       "        vertical-align: top;\n",
       "    }\n",
       "\n",
       "    .dataframe thead th {\n",
       "        text-align: right;\n",
       "    }\n",
       "</style>\n",
       "<table border=\"1\" class=\"dataframe\">\n",
       "  <thead>\n",
       "    <tr style=\"text-align: right;\">\n",
       "      <th></th>\n",
       "      <th>datetime</th>\n",
       "      <th>city</th>\n",
       "      <th>state</th>\n",
       "      <th>country</th>\n",
       "      <th>shape</th>\n",
       "      <th>duration (seconds)</th>\n",
       "      <th>duration (hours/min)</th>\n",
       "      <th>comments</th>\n",
       "      <th>date posted</th>\n",
       "      <th>latitude</th>\n",
       "      <th>longitude</th>\n",
       "      <th>latitude_cleaned</th>\n",
       "    </tr>\n",
       "  </thead>\n",
       "  <tbody>\n",
       "    <tr>\n",
       "      <th>43782</th>\n",
       "      <td>1974-05-22 05:30:00</td>\n",
       "      <td>mescalero indian reservation</td>\n",
       "      <td>nm</td>\n",
       "      <td>us</td>\n",
       "      <td>rectangle</td>\n",
       "      <td>180.0</td>\n",
       "      <td>two hours</td>\n",
       "      <td>Huge rectangular object emmitting intense whit...</td>\n",
       "      <td>2012-04-18</td>\n",
       "      <td>33q.200088</td>\n",
       "      <td>-105.624152</td>\n",
       "      <td>NaN</td>\n",
       "    </tr>\n",
       "  </tbody>\n",
       "</table>\n",
       "</div>"
      ],
      "text/plain": [
       "                 datetime                          city state country  \\\n",
       "43782 1974-05-22 05:30:00  mescalero indian reservation    nm      us   \n",
       "\n",
       "           shape  duration (seconds) duration (hours/min)  \\\n",
       "43782  rectangle               180.0            two hours   \n",
       "\n",
       "                                                comments date posted  \\\n",
       "43782  Huge rectangular object emmitting intense whit...  2012-04-18   \n",
       "\n",
       "         latitude   longitude  latitude_cleaned  \n",
       "43782  33q.200088 -105.624152               NaN  "
      ]
     },
     "execution_count": 121,
     "metadata": {},
     "output_type": "execute_result"
    }
   ],
   "source": [
    "lat_mask = ~ufo_df[\"latitude\"].isna() & ufo_df[\"latitude_cleaned\"].isna()\n",
    "\n",
    "ufo_df[lat_mask]"
   ]
  },
  {
   "cell_type": "code",
   "execution_count": 122,
   "id": "aee84675",
   "metadata": {},
   "outputs": [],
   "source": [
    "ufo_df.drop(columns=\"latitude_cleaned\", inplace=True) "
   ]
  },
  {
   "cell_type": "code",
   "execution_count": 123,
   "id": "e2cc86b3",
   "metadata": {},
   "outputs": [
    {
     "name": "stdout",
     "output_type": "stream",
     "text": [
      "<class 'pandas.core.frame.DataFrame'>\n",
      "Index: 80022 entries, 0 to 80331\n",
      "Data columns (total 11 columns):\n",
      " #   Column                Non-Null Count  Dtype         \n",
      "---  ------                --------------  -----         \n",
      " 0   datetime              80022 non-null  datetime64[ns]\n",
      " 1   city                  80022 non-null  object        \n",
      " 2   state                 74363 non-null  object        \n",
      " 3   country               79980 non-null  object        \n",
      " 4   shape                 80022 non-null  object        \n",
      " 5   duration (seconds)    80022 non-null  float64       \n",
      " 6   duration (hours/min)  80022 non-null  object        \n",
      " 7   comments              80022 non-null  object        \n",
      " 8   date posted           80022 non-null  object        \n",
      " 9   latitude              80022 non-null  float64       \n",
      " 10  longitude             80022 non-null  float64       \n",
      "dtypes: datetime64[ns](1), float64(3), object(7)\n",
      "memory usage: 7.3+ MB\n"
     ]
    }
   ],
   "source": [
    "# Clean \"latitude\" column\n",
    "ufo_df[\"latitude\"] = (\n",
    "    ufo_df[\"latitude\"]\n",
    "    .astype(str)\n",
    "    .str.replace(\"q\", \"\")\n",
    "    .str.strip()\n",
    ")\n",
    "\n",
    "ufo_df[\"latitude\"] = pd.to_numeric(ufo_df['latitude'], errors=\"coerce\")\n",
    "ufo_df.info()"
   ]
  },
  {
   "cell_type": "code",
   "execution_count": 124,
   "id": "2c8153ca",
   "metadata": {},
   "outputs": [
    {
     "data": {
      "text/html": [
       "<div>\n",
       "<style scoped>\n",
       "    .dataframe tbody tr th:only-of-type {\n",
       "        vertical-align: middle;\n",
       "    }\n",
       "\n",
       "    .dataframe tbody tr th {\n",
       "        vertical-align: top;\n",
       "    }\n",
       "\n",
       "    .dataframe thead th {\n",
       "        text-align: right;\n",
       "    }\n",
       "</style>\n",
       "<table border=\"1\" class=\"dataframe\">\n",
       "  <thead>\n",
       "    <tr style=\"text-align: right;\">\n",
       "      <th></th>\n",
       "      <th>datetime</th>\n",
       "      <th>city</th>\n",
       "      <th>state</th>\n",
       "      <th>country</th>\n",
       "      <th>shape</th>\n",
       "      <th>duration (seconds)</th>\n",
       "      <th>duration (hours/min)</th>\n",
       "      <th>comments</th>\n",
       "      <th>date posted</th>\n",
       "      <th>latitude</th>\n",
       "      <th>longitude</th>\n",
       "    </tr>\n",
       "  </thead>\n",
       "  <tbody>\n",
       "    <tr>\n",
       "      <th>0</th>\n",
       "      <td>1949-10-10 20:30:00</td>\n",
       "      <td>san marcos</td>\n",
       "      <td>tx</td>\n",
       "      <td>us</td>\n",
       "      <td>cylinder</td>\n",
       "      <td>2700.0</td>\n",
       "      <td>45 minutes</td>\n",
       "      <td>This event took place in early fall around 194...</td>\n",
       "      <td>2004-04-27</td>\n",
       "      <td>29.883056</td>\n",
       "      <td>-97.941111</td>\n",
       "    </tr>\n",
       "    <tr>\n",
       "      <th>1</th>\n",
       "      <td>1949-10-10 21:00:00</td>\n",
       "      <td>lackland afb</td>\n",
       "      <td>tx</td>\n",
       "      <td>us</td>\n",
       "      <td>light</td>\n",
       "      <td>7200.0</td>\n",
       "      <td>1-2 hrs</td>\n",
       "      <td>1949 Lackland AFB&amp;#44 TX.  Lights racing acros...</td>\n",
       "      <td>2005-12-16</td>\n",
       "      <td>29.384210</td>\n",
       "      <td>-98.581082</td>\n",
       "    </tr>\n",
       "    <tr>\n",
       "      <th>2</th>\n",
       "      <td>1955-10-10 17:00:00</td>\n",
       "      <td>chester (uk/england)</td>\n",
       "      <td>NaN</td>\n",
       "      <td>gb</td>\n",
       "      <td>circle</td>\n",
       "      <td>20.0</td>\n",
       "      <td>20 seconds</td>\n",
       "      <td>Green/Orange circular disc over Chester&amp;#44 En...</td>\n",
       "      <td>2008-01-21</td>\n",
       "      <td>53.200000</td>\n",
       "      <td>-2.916667</td>\n",
       "    </tr>\n",
       "    <tr>\n",
       "      <th>3</th>\n",
       "      <td>1956-10-10 21:00:00</td>\n",
       "      <td>edna</td>\n",
       "      <td>tx</td>\n",
       "      <td>us</td>\n",
       "      <td>circle</td>\n",
       "      <td>20.0</td>\n",
       "      <td>1/2 hour</td>\n",
       "      <td>My older brother and twin sister were leaving ...</td>\n",
       "      <td>2004-01-17</td>\n",
       "      <td>28.978333</td>\n",
       "      <td>-96.645833</td>\n",
       "    </tr>\n",
       "    <tr>\n",
       "      <th>4</th>\n",
       "      <td>1960-10-10 20:00:00</td>\n",
       "      <td>kaneohe</td>\n",
       "      <td>hi</td>\n",
       "      <td>us</td>\n",
       "      <td>light</td>\n",
       "      <td>900.0</td>\n",
       "      <td>15 minutes</td>\n",
       "      <td>AS a Marine 1st Lt. flying an FJ4B fighter/att...</td>\n",
       "      <td>2004-01-22</td>\n",
       "      <td>21.418056</td>\n",
       "      <td>-157.803611</td>\n",
       "    </tr>\n",
       "  </tbody>\n",
       "</table>\n",
       "</div>"
      ],
      "text/plain": [
       "             datetime                  city state country     shape  \\\n",
       "0 1949-10-10 20:30:00            san marcos    tx      us  cylinder   \n",
       "1 1949-10-10 21:00:00          lackland afb    tx      us     light   \n",
       "2 1955-10-10 17:00:00  chester (uk/england)   NaN      gb    circle   \n",
       "3 1956-10-10 21:00:00                  edna    tx      us    circle   \n",
       "4 1960-10-10 20:00:00               kaneohe    hi      us     light   \n",
       "\n",
       "   duration (seconds) duration (hours/min)  \\\n",
       "0              2700.0           45 minutes   \n",
       "1              7200.0              1-2 hrs   \n",
       "2                20.0           20 seconds   \n",
       "3                20.0             1/2 hour   \n",
       "4               900.0           15 minutes   \n",
       "\n",
       "                                            comments date posted   latitude  \\\n",
       "0  This event took place in early fall around 194...  2004-04-27  29.883056   \n",
       "1  1949 Lackland AFB&#44 TX.  Lights racing acros...  2005-12-16  29.384210   \n",
       "2  Green/Orange circular disc over Chester&#44 En...  2008-01-21  53.200000   \n",
       "3  My older brother and twin sister were leaving ...  2004-01-17  28.978333   \n",
       "4  AS a Marine 1st Lt. flying an FJ4B fighter/att...  2004-01-22  21.418056   \n",
       "\n",
       "    longitude  \n",
       "0  -97.941111  \n",
       "1  -98.581082  \n",
       "2   -2.916667  \n",
       "3  -96.645833  \n",
       "4 -157.803611  "
      ]
     },
     "execution_count": 124,
     "metadata": {},
     "output_type": "execute_result"
    }
   ],
   "source": [
    "ufo_df.head()"
   ]
  },
  {
   "cell_type": "markdown",
   "id": "61bb659c",
   "metadata": {},
   "source": [
    "All major data quality issues have been resolved. The dataset is now suitable for EDA. "
   ]
  },
  {
   "cell_type": "markdown",
   "id": "f267dd38",
   "metadata": {},
   "source": [
    "Saving the cleaned dataset into a .csv file "
   ]
  },
  {
   "cell_type": "code",
   "execution_count": 128,
   "id": "734ce4d3",
   "metadata": {},
   "outputs": [],
   "source": [
    "ufo_df.to_csv(\"data/processed/ufo_clean.csv\", index=False)"
   ]
  }
 ],
 "metadata": {
  "kernelspec": {
   "display_name": "Python (ufo-eda)",
   "language": "python",
   "name": "ufo-eda"
  },
  "language_info": {
   "codemirror_mode": {
    "name": "ipython",
    "version": 3
   },
   "file_extension": ".py",
   "mimetype": "text/x-python",
   "name": "python",
   "nbconvert_exporter": "python",
   "pygments_lexer": "ipython3",
   "version": "3.13.2"
  }
 },
 "nbformat": 4,
 "nbformat_minor": 5
}
